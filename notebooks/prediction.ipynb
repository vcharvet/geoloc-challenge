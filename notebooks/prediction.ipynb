{
 "cells": [
  {
   "cell_type": "code",
   "execution_count": 1,
   "metadata": {
    "collapsed": true
   },
   "outputs": [],
   "source": [
    "import pandas as pd\n",
    "import numpy as np\n",
    "\n",
    "import os \n",
    "import sys\n",
    "\n",
    "os.chdir('..') ; sys.path.append(os.getcwd())"
   ]
  },
  {
   "cell_type": "code",
   "execution_count": 2,
   "metadata": {
    "collapsed": false
   },
   "outputs": [
    {
     "data": {
      "text/html": [
       "<div>\n",
       "<style scoped>\n",
       "    .dataframe tbody tr th:only-of-type {\n",
       "        vertical-align: middle;\n",
       "    }\n",
       "\n",
       "    .dataframe tbody tr th {\n",
       "        vertical-align: top;\n",
       "    }\n",
       "\n",
       "    .dataframe thead th {\n",
       "        text-align: right;\n",
       "    }\n",
       "</style>\n",
       "<table border=\"1\" class=\"dataframe\">\n",
       "  <thead>\n",
       "    <tr style=\"text-align: right;\">\n",
       "      <th></th>\n",
       "      <th>motion</th>\n",
       "      <th>speed</th>\n",
       "      <th>radius</th>\n",
       "      <th>seqnumber</th>\n",
       "      <th>rssi8245</th>\n",
       "      <th>rssi16082</th>\n",
       "      <th>rssi3562</th>\n",
       "      <th>rssi14280</th>\n",
       "      <th>rssi1743</th>\n",
       "      <th>rssi3558</th>\n",
       "      <th>...</th>\n",
       "      <th>5aa2b2e95005741b7d664456</th>\n",
       "      <th>5aafc3cf9e93a13199a1d3e0</th>\n",
       "      <th>5ad494bd9e93a128c8abfca4</th>\n",
       "      <th>5ad49def3c87894334c6d764</th>\n",
       "      <th>5ad7077f9e93a128c85029d7</th>\n",
       "      <th>5af2bdf49e93a128c8cbbc19</th>\n",
       "      <th>5afbe2c59058c264249ac174</th>\n",
       "      <th>5afd4b7c9058c26424f713c5</th>\n",
       "      <th>5b0ef3125005747bb07f99eb</th>\n",
       "      <th>5b115d0b9058c20630b137df</th>\n",
       "    </tr>\n",
       "  </thead>\n",
       "  <tbody>\n",
       "    <tr>\n",
       "      <th>5a497a24cf554f30e846c069</th>\n",
       "      <td>0</td>\n",
       "      <td>1.0</td>\n",
       "      <td>0.0</td>\n",
       "      <td>283</td>\n",
       "      <td>-121.0</td>\n",
       "      <td>0.0</td>\n",
       "      <td>0.0</td>\n",
       "      <td>0.0</td>\n",
       "      <td>0.0</td>\n",
       "      <td>0.0</td>\n",
       "      <td>...</td>\n",
       "      <td>0</td>\n",
       "      <td>0</td>\n",
       "      <td>0</td>\n",
       "      <td>0</td>\n",
       "      <td>0</td>\n",
       "      <td>0</td>\n",
       "      <td>0</td>\n",
       "      <td>0</td>\n",
       "      <td>0</td>\n",
       "      <td>0</td>\n",
       "    </tr>\n",
       "    <tr>\n",
       "      <th>5a497a4ce541cd714d45b1c5</th>\n",
       "      <td>0</td>\n",
       "      <td>1.0</td>\n",
       "      <td>0.0</td>\n",
       "      <td>194</td>\n",
       "      <td>0.0</td>\n",
       "      <td>0.0</td>\n",
       "      <td>0.0</td>\n",
       "      <td>-139.0</td>\n",
       "      <td>0.0</td>\n",
       "      <td>0.0</td>\n",
       "      <td>...</td>\n",
       "      <td>0</td>\n",
       "      <td>0</td>\n",
       "      <td>0</td>\n",
       "      <td>0</td>\n",
       "      <td>0</td>\n",
       "      <td>0</td>\n",
       "      <td>0</td>\n",
       "      <td>0</td>\n",
       "      <td>0</td>\n",
       "      <td>0</td>\n",
       "    </tr>\n",
       "    <tr>\n",
       "      <th>5a497a4dcf554f30e8472041</th>\n",
       "      <td>0</td>\n",
       "      <td>0.0</td>\n",
       "      <td>0.0</td>\n",
       "      <td>2598</td>\n",
       "      <td>0.0</td>\n",
       "      <td>0.0</td>\n",
       "      <td>0.0</td>\n",
       "      <td>0.0</td>\n",
       "      <td>0.0</td>\n",
       "      <td>0.0</td>\n",
       "      <td>...</td>\n",
       "      <td>0</td>\n",
       "      <td>0</td>\n",
       "      <td>0</td>\n",
       "      <td>0</td>\n",
       "      <td>0</td>\n",
       "      <td>0</td>\n",
       "      <td>0</td>\n",
       "      <td>0</td>\n",
       "      <td>0</td>\n",
       "      <td>0</td>\n",
       "    </tr>\n",
       "    <tr>\n",
       "      <th>5a497aafcf554f30e847cc61</th>\n",
       "      <td>0</td>\n",
       "      <td>0.0</td>\n",
       "      <td>0.0</td>\n",
       "      <td>2721</td>\n",
       "      <td>-113.0</td>\n",
       "      <td>0.0</td>\n",
       "      <td>0.0</td>\n",
       "      <td>0.0</td>\n",
       "      <td>0.0</td>\n",
       "      <td>0.0</td>\n",
       "      <td>...</td>\n",
       "      <td>0</td>\n",
       "      <td>0</td>\n",
       "      <td>0</td>\n",
       "      <td>0</td>\n",
       "      <td>0</td>\n",
       "      <td>0</td>\n",
       "      <td>0</td>\n",
       "      <td>0</td>\n",
       "      <td>0</td>\n",
       "      <td>0</td>\n",
       "    </tr>\n",
       "    <tr>\n",
       "      <th>5a497adde541cd714d46accb</th>\n",
       "      <td>0</td>\n",
       "      <td>1.0</td>\n",
       "      <td>0.0</td>\n",
       "      <td>1898</td>\n",
       "      <td>0.0</td>\n",
       "      <td>0.0</td>\n",
       "      <td>0.0</td>\n",
       "      <td>0.0</td>\n",
       "      <td>0.0</td>\n",
       "      <td>0.0</td>\n",
       "      <td>...</td>\n",
       "      <td>0</td>\n",
       "      <td>0</td>\n",
       "      <td>0</td>\n",
       "      <td>0</td>\n",
       "      <td>0</td>\n",
       "      <td>0</td>\n",
       "      <td>0</td>\n",
       "      <td>0</td>\n",
       "      <td>0</td>\n",
       "      <td>0</td>\n",
       "    </tr>\n",
       "  </tbody>\n",
       "</table>\n",
       "<p>5 rows × 834 columns</p>\n",
       "</div>"
      ],
      "text/plain": [
       "                          motion  speed  radius  seqnumber  rssi8245  \\\n",
       "5a497a24cf554f30e846c069       0    1.0     0.0        283    -121.0   \n",
       "5a497a4ce541cd714d45b1c5       0    1.0     0.0        194       0.0   \n",
       "5a497a4dcf554f30e8472041       0    0.0     0.0       2598       0.0   \n",
       "5a497aafcf554f30e847cc61       0    0.0     0.0       2721    -113.0   \n",
       "5a497adde541cd714d46accb       0    1.0     0.0       1898       0.0   \n",
       "\n",
       "                          rssi16082  rssi3562  rssi14280  rssi1743  rssi3558  \\\n",
       "5a497a24cf554f30e846c069        0.0       0.0        0.0       0.0       0.0   \n",
       "5a497a4ce541cd714d45b1c5        0.0       0.0     -139.0       0.0       0.0   \n",
       "5a497a4dcf554f30e8472041        0.0       0.0        0.0       0.0       0.0   \n",
       "5a497aafcf554f30e847cc61        0.0       0.0        0.0       0.0       0.0   \n",
       "5a497adde541cd714d46accb        0.0       0.0        0.0       0.0       0.0   \n",
       "\n",
       "                                    ...             5aa2b2e95005741b7d664456  \\\n",
       "5a497a24cf554f30e846c069            ...                                    0   \n",
       "5a497a4ce541cd714d45b1c5            ...                                    0   \n",
       "5a497a4dcf554f30e8472041            ...                                    0   \n",
       "5a497aafcf554f30e847cc61            ...                                    0   \n",
       "5a497adde541cd714d46accb            ...                                    0   \n",
       "\n",
       "                          5aafc3cf9e93a13199a1d3e0  5ad494bd9e93a128c8abfca4  \\\n",
       "5a497a24cf554f30e846c069                         0                         0   \n",
       "5a497a4ce541cd714d45b1c5                         0                         0   \n",
       "5a497a4dcf554f30e8472041                         0                         0   \n",
       "5a497aafcf554f30e847cc61                         0                         0   \n",
       "5a497adde541cd714d46accb                         0                         0   \n",
       "\n",
       "                          5ad49def3c87894334c6d764  5ad7077f9e93a128c85029d7  \\\n",
       "5a497a24cf554f30e846c069                         0                         0   \n",
       "5a497a4ce541cd714d45b1c5                         0                         0   \n",
       "5a497a4dcf554f30e8472041                         0                         0   \n",
       "5a497aafcf554f30e847cc61                         0                         0   \n",
       "5a497adde541cd714d46accb                         0                         0   \n",
       "\n",
       "                          5af2bdf49e93a128c8cbbc19  5afbe2c59058c264249ac174  \\\n",
       "5a497a24cf554f30e846c069                         0                         0   \n",
       "5a497a4ce541cd714d45b1c5                         0                         0   \n",
       "5a497a4dcf554f30e8472041                         0                         0   \n",
       "5a497aafcf554f30e847cc61                         0                         0   \n",
       "5a497adde541cd714d46accb                         0                         0   \n",
       "\n",
       "                          5afd4b7c9058c26424f713c5  5b0ef3125005747bb07f99eb  \\\n",
       "5a497a24cf554f30e846c069                         0                         0   \n",
       "5a497a4ce541cd714d45b1c5                         0                         0   \n",
       "5a497a4dcf554f30e8472041                         0                         0   \n",
       "5a497aafcf554f30e847cc61                         0                         0   \n",
       "5a497adde541cd714d46accb                         0                         0   \n",
       "\n",
       "                          5b115d0b9058c20630b137df  \n",
       "5a497a24cf554f30e846c069                         0  \n",
       "5a497a4ce541cd714d45b1c5                         0  \n",
       "5a497a4dcf554f30e8472041                         0  \n",
       "5a497aafcf554f30e847cc61                         0  \n",
       "5a497adde541cd714d46accb                         0  \n",
       "\n",
       "[5 rows x 834 columns]"
      ]
     },
     "execution_count": 2,
     "metadata": {},
     "output_type": "execute_result"
    }
   ],
   "source": [
    "Xy = pd.read_parquet('data/feature_matrix_train_vMLP.parquet')\n",
    "\n",
    "# features = np.loadtxt('data/features.txt', dtype=str)\n",
    "\n",
    "dtid_ohe = pd.get_dummies(Xy['dtid'])\n",
    "Xy.drop('dtid', axis=1, inplace=True)\n",
    "Xy = pd.concat([Xy, dtid_ohe], axis=1)\n",
    "\n",
    "Xy.head()"
   ]
  },
  {
   "cell_type": "code",
   "execution_count": 3,
   "metadata": {
    "collapsed": false
   },
   "outputs": [],
   "source": [
    "X_test = pd.read_parquet('data/feature_matrix_test_vMLP.parquet')\n",
    "\n",
    "dtid_ohe = pd.get_dummies(X_test['dtid'])\n",
    "X_test.drop('dtid', axis=1, inplace=True)\n",
    "X_test = pd.concat([X_test, dtid_ohe], axis=1)"
   ]
  },
  {
   "cell_type": "code",
   "execution_count": 4,
   "metadata": {
    "collapsed": false
   },
   "outputs": [],
   "source": [
    "from sklearn.model_selection import train_test_split\n",
    "from sklearn.ensemble import RandomForestRegressor, GradientBoostingRegressor\n",
    "from sklearn.linear_model import LinearRegression, LogisticRegression, SGDRegressor, ElasticNet\n",
    "from sklearn.multioutput import MultiOutputRegressor\n",
    "from sklearn.gaussian_process import GaussianProcessRegressor\n",
    "from sklearn.preprocessing import StandardScaler\n",
    "from sklearn.decomposition import PCA\n",
    "from sklearn.neighbors import KNeighborsRegressor\n",
    "from sklearn.pipeline import Pipeline\n",
    "from xgboost import XGBRegressor\n",
    "\n",
    "from utils.evaluation import vincenty_df, vincenty_vec, criterion, plot_error\n",
    "from geopy.distance import vincenty"
   ]
  },
  {
   "cell_type": "code",
   "execution_count": 5,
   "metadata": {
    "collapsed": false
   },
   "outputs": [],
   "source": [
    "features = list(X_test.columns) #list(Xy.columns)\n",
    "# features.remove('latitude')\n",
    "# features.remove('longitude')"
   ]
  },
  {
   "cell_type": "code",
   "execution_count": 6,
   "metadata": {
    "collapsed": false
   },
   "outputs": [],
   "source": [
    "# filter features\n",
    "import re\n",
    "\n",
    "r_nseq = re.compile('nseq')\n",
    "nseqs = [x for x in features if r_nseq.match(x)]\n",
    "\n",
    "r_time = re.compile('time_ux')\n",
    "times = [x for x in features if r_time.match(x)]\n",
    "\n",
    "r_freq = re.compile('freq')\n",
    "freqs = [x for x in features if r_freq.match(x)]\n",
    "\n",
    "r_snr = re.compile('snr')\n",
    "snrs = [x for x in features if r_snr.match(x)]\n",
    "\n",
    "r_dist = re.compile('estim_distance')\n",
    "dists = [x for x in features if r_dist.match(x)]\n"
   ]
  },
  {
   "cell_type": "code",
   "execution_count": 7,
   "metadata": {
    "collapsed": false
   },
   "outputs": [
    {
     "name": "stderr",
     "output_type": "stream",
     "text": [
      "/cluster/storage/vcharvet/workspace/pythonProjects/geoloc-challenge/geolocenv/lib/python3.5/site-packages/sklearn/preprocessing/data.py:617: DataConversionWarning: Data with input dtype uint8, int64, float64 were all converted to float64 by StandardScaler.\n",
      "  return self.partial_fit(X, y)\n",
      "/cluster/storage/vcharvet/workspace/pythonProjects/geoloc-challenge/geolocenv/lib/python3.5/site-packages/sklearn/base.py:462: DataConversionWarning: Data with input dtype uint8, int64, float64 were all converted to float64 by StandardScaler.\n",
      "  return self.fit(X, **fit_params).transform(X)\n",
      "/cluster/storage/vcharvet/workspace/pythonProjects/geoloc-challenge/geolocenv/lib/python3.5/site-packages/ipykernel_launcher.py:12: DataConversionWarning: Data with input dtype uint8, int64, float64 were all converted to float64 by StandardScaler.\n",
      "  if sys.path[0] == '':\n"
     ]
    }
   ],
   "source": [
    "X, y = Xy.loc[:, features], Xy.loc[:, ['latitude', 'longitude']]\n",
    "\n",
    "X.drop(nseqs + times + freqs + snrs, axis=1, inplace=True )\n",
    "X_test.drop(nseqs + times + freqs + snrs, axis=1, inplace=True )\n",
    "\n",
    "# X_train, X_val, y_train, y_val = train_test_split(X, y, test_size=0.15, random_state=0)\n",
    "\n",
    "scaler = StandardScaler() # reuse for test\n",
    "# X_train_scale = scaler.fit_transform(X_train)\n",
    "# X_val_scale = scaler.transform(X_val)\n",
    "X_scale = scaler.fit_transform(X)\n",
    "X_test_scale = scaler.transform(X_test)"
   ]
  },
  {
   "cell_type": "code",
   "execution_count": 8,
   "metadata": {
    "collapsed": false
   },
   "outputs": [
    {
     "data": {
      "text/plain": [
       "((957567, 659), (89967, 659))"
      ]
     },
     "execution_count": 8,
     "metadata": {},
     "output_type": "execute_result"
    }
   ],
   "source": [
    "# X_train.shape\n",
    "X.shape, X_test.shape"
   ]
  },
  {
   "cell_type": "code",
   "execution_count": 33,
   "metadata": {
    "collapsed": false,
    "scrolled": false
   },
   "outputs": [
    {
     "name": "stdout",
     "output_type": "stream",
     "text": [
      "[[-3.22286541e+00 -4.25833967e+00 -1.67220645e+00 ...  7.73082098e-01\n",
      "   1.53054839e-01 -1.29622410e-01]\n",
      " [ 2.73635826e+00 -7.17441702e+00 -1.81923890e+00 ...  1.11130162e+00\n",
      "   2.92141260e-01 -5.65293204e-01]\n",
      " [-1.12079153e+00 -1.48534663e+00  2.81027927e+00 ...  1.58260756e-01\n",
      "  -2.00564309e-01 -5.26314746e-01]\n",
      " ...\n",
      " [-5.58310894e+00 -4.99124006e+00 -6.87082258e+00 ... -3.06100137e-03\n",
      "  -3.09932992e-02  2.73081544e-02]\n",
      " [-3.17945957e-01 -4.80748390e+00  1.36476195e+00 ...  8.61891602e-01\n",
      "   4.94292565e-01  1.64187134e-01]\n",
      " [-2.56482055e+00 -4.78907996e+00 -4.33105271e+00 ... -5.60989984e-01\n",
      "  -1.39179589e-01  1.32263595e-02]]\n"
     ]
    }
   ],
   "source": [
    "pca = PCA(n_components=0.9)\n",
    "X_train_pca = pca.fit_transform(X_train_scale)\n",
    "\n",
    "print(X_train_pca.shape)"
   ]
  },
  {
   "cell_type": "markdown",
   "metadata": {},
   "source": [
    "### Masking extreme values"
   ]
  },
  {
   "cell_type": "code",
   "execution_count": 10,
   "metadata": {
    "collapsed": true
   },
   "outputs": [],
   "source": [
    "mean_lat, std_lat = y['latitude'].mean(), y['latitude'].std()\n",
    "mean_lng, std_lng = y['longitude'].mean(), y['longitude'].std()\n",
    "\n",
    "mask = (y['latitude'] < mean_lat + 2*std_lat ) & (y['latitude'] > mean_lat - 2*std_lat) & \\\n",
    "    (y['longitude'] < mean_lng + 2*std_lng) & (y['longitude'] > mean_lng - 2*std_lng)"
   ]
  },
  {
   "cell_type": "code",
   "execution_count": 11,
   "metadata": {
    "collapsed": false
   },
   "outputs": [
    {
     "data": {
      "text/plain": [
       "((957567,), 950381)"
      ]
     },
     "execution_count": 11,
     "metadata": {},
     "output_type": "execute_result"
    }
   ],
   "source": [
    "mask.shape, mask.sum()"
   ]
  },
  {
   "cell_type": "markdown",
   "metadata": {},
   "source": [
    "### Removing non significative features"
   ]
  },
  {
   "cell_type": "code",
   "execution_count": 12,
   "metadata": {
    "collapsed": false
   },
   "outputs": [
    {
     "data": {
      "text/plain": [
       "((673,), 209)"
      ]
     },
     "execution_count": 12,
     "metadata": {},
     "output_type": "execute_result"
    }
   ],
   "source": [
    "n_zeros = np.count_nonzero(X_train, axis=0)\n",
    "\n",
    "treshold = int(X_train.shape[0] // 10)\n",
    "\n",
    "feature_mask = np.where(n_zeros >= treshold, True, False)\n",
    "feature_mask.shape, feature_mask.sum()"
   ]
  },
  {
   "cell_type": "markdown",
   "metadata": {},
   "source": [
    "### $\\chi$-2 feature selection"
   ]
  },
  {
   "cell_type": "code",
   "execution_count": 14,
   "metadata": {
    "collapsed": true
   },
   "outputs": [],
   "source": [
    "from sklearn.feature_selection import SelectKBest, chi2, f_regression"
   ]
  },
  {
   "cell_type": "code",
   "execution_count": 69,
   "metadata": {
    "collapsed": true
   },
   "outputs": [],
   "source": [
    "def select_best_coefs(coefs_df, k=10):\n",
    "    # coefs.shape=(n_features, 2), has to be sorted\n",
    "    coef_list = []\n",
    "    "
   ]
  },
  {
   "cell_type": "code",
   "execution_count": 70,
   "metadata": {
    "collapsed": false,
    "scrolled": true
   },
   "outputs": [],
   "source": [
    "lin_reg = LinearRegression().fit(X_train[::10], y_train[::10])\n",
    "\n",
    "coefs = lin_reg.coef_.T"
   ]
  },
  {
   "cell_type": "code",
   "execution_count": 78,
   "metadata": {
    "collapsed": false
   },
   "outputs": [
    {
     "data": {
      "text/html": [
       "<div>\n",
       "<style scoped>\n",
       "    .dataframe tbody tr th:only-of-type {\n",
       "        vertical-align: middle;\n",
       "    }\n",
       "\n",
       "    .dataframe tbody tr th {\n",
       "        vertical-align: top;\n",
       "    }\n",
       "\n",
       "    .dataframe thead th {\n",
       "        text-align: right;\n",
       "    }\n",
       "</style>\n",
       "<table border=\"1\" class=\"dataframe\">\n",
       "  <thead>\n",
       "    <tr style=\"text-align: right;\">\n",
       "      <th></th>\n",
       "      <th>coef_lat</th>\n",
       "      <th>coef_lng</th>\n",
       "      <th>abs_lat</th>\n",
       "      <th>abs_lng</th>\n",
       "    </tr>\n",
       "  </thead>\n",
       "  <tbody>\n",
       "    <tr>\n",
       "      <th>nseq4047</th>\n",
       "      <td>-0.083683</td>\n",
       "      <td>0.060346</td>\n",
       "      <td>0.083683</td>\n",
       "      <td>0.060346</td>\n",
       "    </tr>\n",
       "    <tr>\n",
       "      <th>fast</th>\n",
       "      <td>0.079604</td>\n",
       "      <td>0.013482</td>\n",
       "      <td>0.079604</td>\n",
       "      <td>0.013482</td>\n",
       "    </tr>\n",
       "    <tr>\n",
       "      <th>nseq4148</th>\n",
       "      <td>0.074201</td>\n",
       "      <td>0.034470</td>\n",
       "      <td>0.074201</td>\n",
       "      <td>0.034470</td>\n",
       "    </tr>\n",
       "    <tr>\n",
       "      <th>5a3299549e93a149fc95c626</th>\n",
       "      <td>-0.069662</td>\n",
       "      <td>-0.043624</td>\n",
       "      <td>0.069662</td>\n",
       "      <td>0.043624</td>\n",
       "    </tr>\n",
       "    <tr>\n",
       "      <th>nseq3389</th>\n",
       "      <td>0.051088</td>\n",
       "      <td>-0.002440</td>\n",
       "      <td>0.051088</td>\n",
       "      <td>0.002440</td>\n",
       "    </tr>\n",
       "  </tbody>\n",
       "</table>\n",
       "</div>"
      ],
      "text/plain": [
       "                          coef_lat  coef_lng   abs_lat   abs_lng\n",
       "nseq4047                 -0.083683  0.060346  0.083683  0.060346\n",
       "fast                      0.079604  0.013482  0.079604  0.013482\n",
       "nseq4148                  0.074201  0.034470  0.074201  0.034470\n",
       "5a3299549e93a149fc95c626 -0.069662 -0.043624  0.069662  0.043624\n",
       "nseq3389                  0.051088 -0.002440  0.051088  0.002440"
      ]
     },
     "execution_count": 78,
     "metadata": {},
     "output_type": "execute_result"
    }
   ],
   "source": [
    "coefs_df = pd.DataFrame(coefs, columns=['coef_lat', 'coef_lng'], index=X_train.columns)\n",
    "coefs_df['abs_lat'], coefs_df['abs_lng'] = np.abs(coefs_df['coef_lat']), np.abs(coefs_df['coef_lng'])\n",
    "coefs_df.sort_values(['abs_lat', 'abs_lng'], ascending=False, inplace=True)\n",
    "coefs_df.head()"
   ]
  },
  {
   "cell_type": "code",
   "execution_count": 79,
   "metadata": {
    "collapsed": false
   },
   "outputs": [
    {
     "name": "stdout",
     "output_type": "stream",
     "text": [
      "(575,)\n"
     ]
    },
    {
     "data": {
      "text/plain": [
       "Index(['nseq4047', 'fast', 'nseq4148', '5a3299549e93a149fc95c626', 'nseq3389',\n",
       "       'nseq26828', 'snr34453', 'rssi34453', 'nseq3402', 'nseq1092',\n",
       "       ...\n",
       "       'rssi4993', 'estim_distance3500', 'estim_distance9054', 'snr3581',\n",
       "       'distance3545', 'estim_distance3565', 'estim_distance10943',\n",
       "       'estim_distance8471', 'estim_distance4059', 'snr10151'],\n",
       "      dtype='object', length=575)"
      ]
     },
     "execution_count": 79,
     "metadata": {},
     "output_type": "execute_result"
    }
   ],
   "source": [
    "# best_coefs = np.array(select_best_coefs(coefs_df, X.shape[1]//2))\n",
    "best_coefs = coefs_df.iloc[:X.shape[1]//2, :].index\n",
    "\n",
    "print(best_coefs.shape)\n",
    "best_coefs"
   ]
  },
  {
   "cell_type": "code",
   "execution_count": 82,
   "metadata": {
    "collapsed": false
   },
   "outputs": [],
   "source": [
    "X_train_red = X_train.loc[:, best_coefs]\n",
    "X_val_red = X_val.loc[:, best_coefs]"
   ]
  },
  {
   "cell_type": "markdown",
   "metadata": {},
   "source": [
    "## Regression"
   ]
  },
  {
   "cell_type": "code",
   "execution_count": 10,
   "metadata": {
    "collapsed": false
   },
   "outputs": [
    {
     "name": "stdout",
     "output_type": "stream",
     "text": [
      "CPU times: user 0 ns, sys: 0 ns, total: 0 ns\n",
      "Wall time: 321 µs\n"
     ]
    }
   ],
   "source": [
    "%%time\n",
    "from sklearn.metrics import  make_scorer\n",
    "from sklearn.model_selection import cross_val_score\n",
    "\n",
    "custom_loss = make_scorer(criterion, is_df=False)\n",
    "\n",
    "rf = RandomForestRegressor(n_estimators=130, \n",
    "                           max_features='sqrt',\n",
    "                           max_depth=70,\n",
    "                           n_jobs=30, verbose=1)\n",
    "\n",
    "sgd = MultiOutputRegressor(SGDRegressor(verbose=2, \n",
    "                                        alpha=0.1, penalty='l2',                            \n",
    "                                        early_stopping=True,\n",
    "                                        fit_intercept=True,\n",
    "                                        learning_rate='adaptive',\n",
    "                                        max_iter=30))\n",
    "\n",
    "# xgb = MultiOutputRegressor(XGBRegressor(n_estimators=50, n_jobs=8, **{'tree_method':'approx'}))\n",
    "gbt = MultiOutputRegressor(GradientBoostingRegressor(n_estimators=50), n_jobs=-1)\n",
    "\n",
    "knn = KNeighborsRegressor()\n",
    "\n",
    "gp = GaussianProcessRegressor()\n",
    "\n",
    "# lr = MultiOutputRegressor(LogisticRegression(n_jobs=30))\n",
    "lr = ElasticNet(selection='random')"
   ]
  },
  {
   "cell_type": "code",
   "execution_count": 13,
   "metadata": {
    "collapsed": false,
    "scrolled": true
   },
   "outputs": [
    {
     "name": "stderr",
     "output_type": "stream",
     "text": [
      "[Parallel(n_jobs=16)]: Using backend LokyBackend with 16 concurrent workers.\n",
      "[Parallel(n_jobs=16)]: Done   2 out of   5 | elapsed: 21.6min remaining: 32.3min\n"
     ]
    },
    {
     "name": "stdout",
     "output_type": "stream",
     "text": [
      "8.015199024159832 0.0148694521224264\n",
      "CPU times: user 5.33 s, sys: 9.44 s, total: 14.8 s\n",
      "Wall time: 23min 54s\n"
     ]
    },
    {
     "name": "stderr",
     "output_type": "stream",
     "text": [
      "[Parallel(n_jobs=16)]: Done   5 out of   5 | elapsed: 23.8min finished\n"
     ]
    }
   ],
   "source": [
    "%%time\n",
    "cv = cross_val_score(gbt, X_train.loc[mask, feature_mask], y_train[mask].values, \n",
    "                     scoring=custom_loss, cv=5, verbose=3, n_jobs=16)\n",
    "\n",
    "print(cv.mean(), cv.std())"
   ]
  },
  {
   "cell_type": "code",
   "execution_count": 11,
   "metadata": {
    "collapsed": false
   },
   "outputs": [],
   "source": [
    "df_ytest = pd.DataFrame(y_val, columns=['latitude', 'longitude'])"
   ]
  },
  {
   "cell_type": "code",
   "execution_count": 14,
   "metadata": {
    "collapsed": false,
    "scrolled": true
   },
   "outputs": [
    {
     "ename": "NameError",
     "evalue": "name 'xgb' is not defined",
     "output_type": "error",
     "traceback": [
      "\u001b[0;31m---------------------------------------------------------------------------\u001b[0m",
      "\u001b[0;31mNameError\u001b[0m                                 Traceback (most recent call last)",
      "\u001b[0;32m<timed exec>\u001b[0m in \u001b[0;36m<module>\u001b[0;34m\u001b[0m\n",
      "\u001b[0;31mNameError\u001b[0m: name 'xgb' is not defined"
     ]
    }
   ],
   "source": [
    "%%time\n",
    "clf = xgb.fit(X_train.loc[:, :], y_train[:])\n",
    "\n",
    "\n",
    "pred_rf = pd.DataFrame(clf.predict(X_val.loc[:, :]), columns=['pred_lat', 'pred_long'], index=y_val.index)\n",
    "\n",
    "\n",
    "print('criterion for random forest: {:.3f}'\\\n",
    "      .format(criterion(pred_rf[['pred_lat', 'pred_long']], df_ytest, True)))"
   ]
  },
  {
   "cell_type": "code",
   "execution_count": 17,
   "metadata": {
    "collapsed": true
   },
   "outputs": [],
   "source": [
    "from geopy.distance import geodesic\n",
    "\n",
    "def geo_distance(x, y): \n",
    "    return geodesic((x[0], x[1]), (y[0], y[1])).m"
   ]
  },
  {
   "cell_type": "code",
   "execution_count": 33,
   "metadata": {
    "collapsed": true
   },
   "outputs": [
    {
     "name": "stderr",
     "output_type": "stream",
     "text": [
      "[Parallel(n_jobs=15)]: Using backend ThreadingBackend with 15 concurrent workers.\n",
      "[Parallel(n_jobs=15)]: Done   2 out of  15 | elapsed:    0.6s remaining:    4.1s\n",
      "[Parallel(n_jobs=15)]: Done  15 out of  15 | elapsed:    0.8s finished\n",
      "[Parallel(n_jobs=15)]: Using backend ThreadingBackend with 15 concurrent workers.\n",
      "[Parallel(n_jobs=15)]: Done   2 out of  15 | elapsed:    0.1s remaining:    0.9s\n",
      "[Parallel(n_jobs=15)]: Done  15 out of  15 | elapsed:    0.2s finished\n"
     ]
    },
    {
     "ename": "KeyboardInterrupt",
     "evalue": "",
     "output_type": "error",
     "traceback": [
      "\u001b[0;31m---------------------------------------------------------------------------\u001b[0m",
      "\u001b[0;31mKeyboardInterrupt\u001b[0m                         Traceback (most recent call last)",
      "\u001b[0;32m<timed exec>\u001b[0m in \u001b[0;36m<module>\u001b[0;34m\u001b[0m\n",
      "\u001b[0;32m/cluster/storage/vcharvet/workspace/pythonProjects/geoloc-challenge/geolocenv/lib/python3.5/site-packages/sklearn/neighbors/regression.py\u001b[0m in \u001b[0;36mpredict\u001b[0;34m(self, X)\u001b[0m\n\u001b[1;32m    155\u001b[0m         \u001b[0mX\u001b[0m \u001b[0;34m=\u001b[0m \u001b[0mcheck_array\u001b[0m\u001b[0;34m(\u001b[0m\u001b[0mX\u001b[0m\u001b[0;34m,\u001b[0m \u001b[0maccept_sparse\u001b[0m\u001b[0;34m=\u001b[0m\u001b[0;34m'csr'\u001b[0m\u001b[0;34m)\u001b[0m\u001b[0;34m\u001b[0m\u001b[0m\n\u001b[1;32m    156\u001b[0m \u001b[0;34m\u001b[0m\u001b[0m\n\u001b[0;32m--> 157\u001b[0;31m         \u001b[0mneigh_dist\u001b[0m\u001b[0;34m,\u001b[0m \u001b[0mneigh_ind\u001b[0m \u001b[0;34m=\u001b[0m \u001b[0mself\u001b[0m\u001b[0;34m.\u001b[0m\u001b[0mkneighbors\u001b[0m\u001b[0;34m(\u001b[0m\u001b[0mX\u001b[0m\u001b[0;34m)\u001b[0m\u001b[0;34m\u001b[0m\u001b[0m\n\u001b[0m\u001b[1;32m    158\u001b[0m \u001b[0;34m\u001b[0m\u001b[0m\n\u001b[1;32m    159\u001b[0m         \u001b[0mweights\u001b[0m \u001b[0;34m=\u001b[0m \u001b[0m_get_weights\u001b[0m\u001b[0;34m(\u001b[0m\u001b[0mneigh_dist\u001b[0m\u001b[0;34m,\u001b[0m \u001b[0mself\u001b[0m\u001b[0;34m.\u001b[0m\u001b[0mweights\u001b[0m\u001b[0;34m)\u001b[0m\u001b[0;34m\u001b[0m\u001b[0m\n",
      "\u001b[0;32m/cluster/storage/vcharvet/workspace/pythonProjects/geoloc-challenge/geolocenv/lib/python3.5/site-packages/sklearn/neighbors/base.py\u001b[0m in \u001b[0;36mkneighbors\u001b[0;34m(self, X, n_neighbors, return_distance)\u001b[0m\n\u001b[1;32m    441\u001b[0m                 delayed_query(\n\u001b[1;32m    442\u001b[0m                     X[s], n_neighbors, return_distance)\n\u001b[0;32m--> 443\u001b[0;31m                 \u001b[0;32mfor\u001b[0m \u001b[0ms\u001b[0m \u001b[0;32min\u001b[0m \u001b[0mgen_even_slices\u001b[0m\u001b[0;34m(\u001b[0m\u001b[0mX\u001b[0m\u001b[0;34m.\u001b[0m\u001b[0mshape\u001b[0m\u001b[0;34m[\u001b[0m\u001b[0;36m0\u001b[0m\u001b[0;34m]\u001b[0m\u001b[0;34m,\u001b[0m \u001b[0mn_jobs\u001b[0m\u001b[0;34m)\u001b[0m\u001b[0;34m\u001b[0m\u001b[0m\n\u001b[0m\u001b[1;32m    444\u001b[0m             )\n\u001b[1;32m    445\u001b[0m         \u001b[0;32melse\u001b[0m\u001b[0;34m:\u001b[0m\u001b[0;34m\u001b[0m\u001b[0m\n",
      "\u001b[0;32m/cluster/storage/vcharvet/workspace/pythonProjects/geoloc-challenge/geolocenv/lib/python3.5/site-packages/sklearn/externals/joblib/parallel.py\u001b[0m in \u001b[0;36m__call__\u001b[0;34m(self, iterable)\u001b[0m\n\u001b[1;32m    981\u001b[0m             \u001b[0;31m# remaining jobs.\u001b[0m\u001b[0;34m\u001b[0m\u001b[0;34m\u001b[0m\u001b[0m\n\u001b[1;32m    982\u001b[0m             \u001b[0mself\u001b[0m\u001b[0;34m.\u001b[0m\u001b[0m_iterating\u001b[0m \u001b[0;34m=\u001b[0m \u001b[0;32mFalse\u001b[0m\u001b[0;34m\u001b[0m\u001b[0m\n\u001b[0;32m--> 983\u001b[0;31m             \u001b[0;32mif\u001b[0m \u001b[0mself\u001b[0m\u001b[0;34m.\u001b[0m\u001b[0mdispatch_one_batch\u001b[0m\u001b[0;34m(\u001b[0m\u001b[0miterator\u001b[0m\u001b[0;34m)\u001b[0m\u001b[0;34m:\u001b[0m\u001b[0;34m\u001b[0m\u001b[0m\n\u001b[0m\u001b[1;32m    984\u001b[0m                 \u001b[0mself\u001b[0m\u001b[0;34m.\u001b[0m\u001b[0m_iterating\u001b[0m \u001b[0;34m=\u001b[0m \u001b[0mself\u001b[0m\u001b[0;34m.\u001b[0m\u001b[0m_original_iterator\u001b[0m \u001b[0;32mis\u001b[0m \u001b[0;32mnot\u001b[0m \u001b[0;32mNone\u001b[0m\u001b[0;34m\u001b[0m\u001b[0m\n\u001b[1;32m    985\u001b[0m \u001b[0;34m\u001b[0m\u001b[0m\n",
      "\u001b[0;32m/cluster/storage/vcharvet/workspace/pythonProjects/geoloc-challenge/geolocenv/lib/python3.5/site-packages/sklearn/externals/joblib/parallel.py\u001b[0m in \u001b[0;36mdispatch_one_batch\u001b[0;34m(self, iterator)\u001b[0m\n\u001b[1;32m    823\u001b[0m                 \u001b[0;32mreturn\u001b[0m \u001b[0;32mFalse\u001b[0m\u001b[0;34m\u001b[0m\u001b[0m\n\u001b[1;32m    824\u001b[0m             \u001b[0;32melse\u001b[0m\u001b[0;34m:\u001b[0m\u001b[0;34m\u001b[0m\u001b[0m\n\u001b[0;32m--> 825\u001b[0;31m                 \u001b[0mself\u001b[0m\u001b[0;34m.\u001b[0m\u001b[0m_dispatch\u001b[0m\u001b[0;34m(\u001b[0m\u001b[0mtasks\u001b[0m\u001b[0;34m)\u001b[0m\u001b[0;34m\u001b[0m\u001b[0m\n\u001b[0m\u001b[1;32m    826\u001b[0m                 \u001b[0;32mreturn\u001b[0m \u001b[0;32mTrue\u001b[0m\u001b[0;34m\u001b[0m\u001b[0m\n\u001b[1;32m    827\u001b[0m \u001b[0;34m\u001b[0m\u001b[0m\n",
      "\u001b[0;32m/cluster/storage/vcharvet/workspace/pythonProjects/geoloc-challenge/geolocenv/lib/python3.5/site-packages/sklearn/externals/joblib/parallel.py\u001b[0m in \u001b[0;36m_dispatch\u001b[0;34m(self, batch)\u001b[0m\n\u001b[1;32m    780\u001b[0m         \u001b[0;32mwith\u001b[0m \u001b[0mself\u001b[0m\u001b[0;34m.\u001b[0m\u001b[0m_lock\u001b[0m\u001b[0;34m:\u001b[0m\u001b[0;34m\u001b[0m\u001b[0m\n\u001b[1;32m    781\u001b[0m             \u001b[0mjob_idx\u001b[0m \u001b[0;34m=\u001b[0m \u001b[0mlen\u001b[0m\u001b[0;34m(\u001b[0m\u001b[0mself\u001b[0m\u001b[0;34m.\u001b[0m\u001b[0m_jobs\u001b[0m\u001b[0;34m)\u001b[0m\u001b[0;34m\u001b[0m\u001b[0m\n\u001b[0;32m--> 782\u001b[0;31m             \u001b[0mjob\u001b[0m \u001b[0;34m=\u001b[0m \u001b[0mself\u001b[0m\u001b[0;34m.\u001b[0m\u001b[0m_backend\u001b[0m\u001b[0;34m.\u001b[0m\u001b[0mapply_async\u001b[0m\u001b[0;34m(\u001b[0m\u001b[0mbatch\u001b[0m\u001b[0;34m,\u001b[0m \u001b[0mcallback\u001b[0m\u001b[0;34m=\u001b[0m\u001b[0mcb\u001b[0m\u001b[0;34m)\u001b[0m\u001b[0;34m\u001b[0m\u001b[0m\n\u001b[0m\u001b[1;32m    783\u001b[0m             \u001b[0;31m# A job can complete so quickly than its callback is\u001b[0m\u001b[0;34m\u001b[0m\u001b[0;34m\u001b[0m\u001b[0m\n\u001b[1;32m    784\u001b[0m             \u001b[0;31m# called before we get here, causing self._jobs to\u001b[0m\u001b[0;34m\u001b[0m\u001b[0;34m\u001b[0m\u001b[0m\n",
      "\u001b[0;32m/cluster/storage/vcharvet/workspace/pythonProjects/geoloc-challenge/geolocenv/lib/python3.5/site-packages/sklearn/externals/joblib/_parallel_backends.py\u001b[0m in \u001b[0;36mapply_async\u001b[0;34m(self, func, callback)\u001b[0m\n\u001b[1;32m    180\u001b[0m     \u001b[0;32mdef\u001b[0m \u001b[0mapply_async\u001b[0m\u001b[0;34m(\u001b[0m\u001b[0mself\u001b[0m\u001b[0;34m,\u001b[0m \u001b[0mfunc\u001b[0m\u001b[0;34m,\u001b[0m \u001b[0mcallback\u001b[0m\u001b[0;34m=\u001b[0m\u001b[0;32mNone\u001b[0m\u001b[0;34m)\u001b[0m\u001b[0;34m:\u001b[0m\u001b[0;34m\u001b[0m\u001b[0m\n\u001b[1;32m    181\u001b[0m         \u001b[0;34m\"\"\"Schedule a func to be run\"\"\"\u001b[0m\u001b[0;34m\u001b[0m\u001b[0m\n\u001b[0;32m--> 182\u001b[0;31m         \u001b[0mresult\u001b[0m \u001b[0;34m=\u001b[0m \u001b[0mImmediateResult\u001b[0m\u001b[0;34m(\u001b[0m\u001b[0mfunc\u001b[0m\u001b[0;34m)\u001b[0m\u001b[0;34m\u001b[0m\u001b[0m\n\u001b[0m\u001b[1;32m    183\u001b[0m         \u001b[0;32mif\u001b[0m \u001b[0mcallback\u001b[0m\u001b[0;34m:\u001b[0m\u001b[0;34m\u001b[0m\u001b[0m\n\u001b[1;32m    184\u001b[0m             \u001b[0mcallback\u001b[0m\u001b[0;34m(\u001b[0m\u001b[0mresult\u001b[0m\u001b[0;34m)\u001b[0m\u001b[0;34m\u001b[0m\u001b[0m\n",
      "\u001b[0;32m/cluster/storage/vcharvet/workspace/pythonProjects/geoloc-challenge/geolocenv/lib/python3.5/site-packages/sklearn/externals/joblib/_parallel_backends.py\u001b[0m in \u001b[0;36m__init__\u001b[0;34m(self, batch)\u001b[0m\n\u001b[1;32m    543\u001b[0m         \u001b[0;31m# Don't delay the application, to avoid keeping the input\u001b[0m\u001b[0;34m\u001b[0m\u001b[0;34m\u001b[0m\u001b[0m\n\u001b[1;32m    544\u001b[0m         \u001b[0;31m# arguments in memory\u001b[0m\u001b[0;34m\u001b[0m\u001b[0;34m\u001b[0m\u001b[0m\n\u001b[0;32m--> 545\u001b[0;31m         \u001b[0mself\u001b[0m\u001b[0;34m.\u001b[0m\u001b[0mresults\u001b[0m \u001b[0;34m=\u001b[0m \u001b[0mbatch\u001b[0m\u001b[0;34m(\u001b[0m\u001b[0;34m)\u001b[0m\u001b[0;34m\u001b[0m\u001b[0m\n\u001b[0m\u001b[1;32m    546\u001b[0m \u001b[0;34m\u001b[0m\u001b[0m\n\u001b[1;32m    547\u001b[0m     \u001b[0;32mdef\u001b[0m \u001b[0mget\u001b[0m\u001b[0;34m(\u001b[0m\u001b[0mself\u001b[0m\u001b[0;34m)\u001b[0m\u001b[0;34m:\u001b[0m\u001b[0;34m\u001b[0m\u001b[0m\n",
      "\u001b[0;32m/cluster/storage/vcharvet/workspace/pythonProjects/geoloc-challenge/geolocenv/lib/python3.5/site-packages/sklearn/externals/joblib/parallel.py\u001b[0m in \u001b[0;36m__call__\u001b[0;34m(self)\u001b[0m\n\u001b[1;32m    259\u001b[0m         \u001b[0;32mwith\u001b[0m \u001b[0mparallel_backend\u001b[0m\u001b[0;34m(\u001b[0m\u001b[0mself\u001b[0m\u001b[0;34m.\u001b[0m\u001b[0m_backend\u001b[0m\u001b[0;34m)\u001b[0m\u001b[0;34m:\u001b[0m\u001b[0;34m\u001b[0m\u001b[0m\n\u001b[1;32m    260\u001b[0m             return [func(*args, **kwargs)\n\u001b[0;32m--> 261\u001b[0;31m                     for func, args, kwargs in self.items]\n\u001b[0m\u001b[1;32m    262\u001b[0m \u001b[0;34m\u001b[0m\u001b[0m\n\u001b[1;32m    263\u001b[0m     \u001b[0;32mdef\u001b[0m \u001b[0m__len__\u001b[0m\u001b[0;34m(\u001b[0m\u001b[0mself\u001b[0m\u001b[0;34m)\u001b[0m\u001b[0;34m:\u001b[0m\u001b[0;34m\u001b[0m\u001b[0m\n",
      "\u001b[0;32m/cluster/storage/vcharvet/workspace/pythonProjects/geoloc-challenge/geolocenv/lib/python3.5/site-packages/sklearn/externals/joblib/parallel.py\u001b[0m in \u001b[0;36m<listcomp>\u001b[0;34m(.0)\u001b[0m\n\u001b[1;32m    259\u001b[0m         \u001b[0;32mwith\u001b[0m \u001b[0mparallel_backend\u001b[0m\u001b[0;34m(\u001b[0m\u001b[0mself\u001b[0m\u001b[0;34m.\u001b[0m\u001b[0m_backend\u001b[0m\u001b[0;34m)\u001b[0m\u001b[0;34m:\u001b[0m\u001b[0;34m\u001b[0m\u001b[0m\n\u001b[1;32m    260\u001b[0m             return [func(*args, **kwargs)\n\u001b[0;32m--> 261\u001b[0;31m                     for func, args, kwargs in self.items]\n\u001b[0m\u001b[1;32m    262\u001b[0m \u001b[0;34m\u001b[0m\u001b[0m\n\u001b[1;32m    263\u001b[0m     \u001b[0;32mdef\u001b[0m \u001b[0m__len__\u001b[0m\u001b[0;34m(\u001b[0m\u001b[0mself\u001b[0m\u001b[0;34m)\u001b[0m\u001b[0;34m:\u001b[0m\u001b[0;34m\u001b[0m\u001b[0m\n",
      "\u001b[0;32msklearn/neighbors/binary_tree.pxi\u001b[0m in \u001b[0;36msklearn.neighbors.ball_tree.BinaryTree.query\u001b[0;34m()\u001b[0m\n",
      "\u001b[0;32msklearn/neighbors/binary_tree.pxi\u001b[0m in \u001b[0;36msklearn.neighbors.ball_tree.BinaryTree._query_single_depthfirst\u001b[0;34m()\u001b[0m\n",
      "\u001b[0;32msklearn/neighbors/binary_tree.pxi\u001b[0m in \u001b[0;36msklearn.neighbors.ball_tree.BinaryTree._query_single_depthfirst\u001b[0;34m()\u001b[0m\n",
      "\u001b[0;32msklearn/neighbors/binary_tree.pxi\u001b[0m in \u001b[0;36msklearn.neighbors.ball_tree.BinaryTree._query_single_depthfirst\u001b[0;34m()\u001b[0m\n",
      "\u001b[0;32msklearn/neighbors/binary_tree.pxi\u001b[0m in \u001b[0;36msklearn.neighbors.ball_tree.BinaryTree._query_single_depthfirst\u001b[0;34m()\u001b[0m\n",
      "\u001b[0;32msklearn/neighbors/binary_tree.pxi\u001b[0m in \u001b[0;36msklearn.neighbors.ball_tree.BinaryTree._query_single_depthfirst\u001b[0;34m()\u001b[0m\n",
      "\u001b[0;32msklearn/neighbors/binary_tree.pxi\u001b[0m in \u001b[0;36msklearn.neighbors.ball_tree.BinaryTree._query_single_depthfirst\u001b[0;34m()\u001b[0m\n",
      "\u001b[0;32msklearn/neighbors/binary_tree.pxi\u001b[0m in \u001b[0;36msklearn.neighbors.ball_tree.BinaryTree._query_single_depthfirst\u001b[0;34m()\u001b[0m\n",
      "\u001b[0;32msklearn/neighbors/binary_tree.pxi\u001b[0m in \u001b[0;36msklearn.neighbors.ball_tree.BinaryTree._query_single_depthfirst\u001b[0;34m()\u001b[0m\n",
      "\u001b[0;32msklearn/neighbors/binary_tree.pxi\u001b[0m in \u001b[0;36msklearn.neighbors.ball_tree.BinaryTree._query_single_depthfirst\u001b[0;34m()\u001b[0m\n",
      "\u001b[0;32msklearn/neighbors/binary_tree.pxi\u001b[0m in \u001b[0;36msklearn.neighbors.ball_tree.BinaryTree._query_single_depthfirst\u001b[0;34m()\u001b[0m\n",
      "\u001b[0;32msklearn/neighbors/binary_tree.pxi\u001b[0m in \u001b[0;36msklearn.neighbors.ball_tree.BinaryTree._query_single_depthfirst\u001b[0;34m()\u001b[0m\n",
      "\u001b[0;32msklearn/neighbors/binary_tree.pxi\u001b[0m in \u001b[0;36msklearn.neighbors.ball_tree.BinaryTree._query_single_depthfirst\u001b[0;34m()\u001b[0m\n",
      "\u001b[0;32msklearn/neighbors/binary_tree.pxi\u001b[0m in \u001b[0;36msklearn.neighbors.ball_tree.BinaryTree._query_single_depthfirst\u001b[0;34m()\u001b[0m\n",
      "\u001b[0;32msklearn/neighbors/binary_tree.pxi\u001b[0m in \u001b[0;36msklearn.neighbors.ball_tree.BinaryTree._query_single_depthfirst\u001b[0;34m()\u001b[0m\n",
      "\u001b[0;32msklearn/neighbors/binary_tree.pxi\u001b[0m in \u001b[0;36msklearn.neighbors.ball_tree.BinaryTree._query_single_depthfirst\u001b[0;34m()\u001b[0m\n",
      "\u001b[0;32msklearn/neighbors/binary_tree.pxi\u001b[0m in \u001b[0;36msklearn.neighbors.ball_tree.BinaryTree.rdist\u001b[0;34m()\u001b[0m\n",
      "\u001b[0;32msklearn/neighbors/dist_metrics.pyx\u001b[0m in \u001b[0;36msklearn.neighbors.dist_metrics.DistanceMetric.rdist\u001b[0;34m()\u001b[0m\n",
      "\u001b[0;32msklearn/neighbors/dist_metrics.pyx\u001b[0m in \u001b[0;36msklearn.neighbors.dist_metrics.PyFuncDistance.dist\u001b[0;34m()\u001b[0m\n",
      "\u001b[0;32msklearn/neighbors/dist_metrics.pyx\u001b[0m in \u001b[0;36msklearn.neighbors.dist_metrics.PyFuncDistance._dist\u001b[0;34m()\u001b[0m\n",
      "\u001b[0;32m<ipython-input-30-b93444ca1cf8>\u001b[0m in \u001b[0;36mgeo_distance\u001b[0;34m(x, y)\u001b[0m\n\u001b[1;32m      2\u001b[0m \u001b[0;34m\u001b[0m\u001b[0m\n\u001b[1;32m      3\u001b[0m \u001b[0;32mdef\u001b[0m \u001b[0mgeo_distance\u001b[0m\u001b[0;34m(\u001b[0m\u001b[0mx\u001b[0m\u001b[0;34m,\u001b[0m \u001b[0my\u001b[0m\u001b[0;34m)\u001b[0m\u001b[0;34m:\u001b[0m\u001b[0;34m\u001b[0m\u001b[0m\n\u001b[0;32m----> 4\u001b[0;31m     \u001b[0;32mreturn\u001b[0m \u001b[0mgeodesic\u001b[0m\u001b[0;34m(\u001b[0m\u001b[0;34m(\u001b[0m\u001b[0mx\u001b[0m\u001b[0;34m[\u001b[0m\u001b[0;36m0\u001b[0m\u001b[0;34m]\u001b[0m\u001b[0;34m,\u001b[0m \u001b[0mx\u001b[0m\u001b[0;34m[\u001b[0m\u001b[0;36m1\u001b[0m\u001b[0;34m]\u001b[0m\u001b[0;34m)\u001b[0m\u001b[0;34m,\u001b[0m \u001b[0;34m(\u001b[0m\u001b[0my\u001b[0m\u001b[0;34m[\u001b[0m\u001b[0;36m0\u001b[0m\u001b[0;34m]\u001b[0m\u001b[0;34m,\u001b[0m \u001b[0my\u001b[0m\u001b[0;34m[\u001b[0m\u001b[0;36m1\u001b[0m\u001b[0;34m]\u001b[0m\u001b[0;34m)\u001b[0m\u001b[0;34m)\u001b[0m\u001b[0;34m.\u001b[0m\u001b[0mm\u001b[0m\u001b[0;34m\u001b[0m\u001b[0m\n\u001b[0m",
      "\u001b[0;32m/cluster/storage/vcharvet/workspace/pythonProjects/geoloc-challenge/geolocenv/lib/python3.5/site-packages/geopy/distance.py\u001b[0m in \u001b[0;36m__init__\u001b[0;34m(self, *args, **kwargs)\u001b[0m\n\u001b[1;32m    387\u001b[0m         \u001b[0mkwargs\u001b[0m\u001b[0;34m.\u001b[0m\u001b[0mpop\u001b[0m\u001b[0;34m(\u001b[0m\u001b[0;34m'iterations'\u001b[0m\u001b[0;34m,\u001b[0m \u001b[0;36m0\u001b[0m\u001b[0;34m)\u001b[0m\u001b[0;34m\u001b[0m\u001b[0m\n\u001b[1;32m    388\u001b[0m         \u001b[0mmajor\u001b[0m\u001b[0;34m,\u001b[0m \u001b[0mminor\u001b[0m\u001b[0;34m,\u001b[0m \u001b[0mf\u001b[0m \u001b[0;34m=\u001b[0m \u001b[0mself\u001b[0m\u001b[0;34m.\u001b[0m\u001b[0mELLIPSOID\u001b[0m\u001b[0;34m\u001b[0m\u001b[0m\n\u001b[0;32m--> 389\u001b[0;31m         \u001b[0msuper\u001b[0m\u001b[0;34m(\u001b[0m\u001b[0mgeodesic\u001b[0m\u001b[0;34m,\u001b[0m \u001b[0mself\u001b[0m\u001b[0;34m)\u001b[0m\u001b[0;34m.\u001b[0m\u001b[0m__init__\u001b[0m\u001b[0;34m(\u001b[0m\u001b[0;34m*\u001b[0m\u001b[0margs\u001b[0m\u001b[0;34m,\u001b[0m \u001b[0;34m**\u001b[0m\u001b[0mkwargs\u001b[0m\u001b[0;34m)\u001b[0m\u001b[0;34m\u001b[0m\u001b[0m\n\u001b[0m\u001b[1;32m    390\u001b[0m \u001b[0;34m\u001b[0m\u001b[0m\n\u001b[1;32m    391\u001b[0m     \u001b[0;32mdef\u001b[0m \u001b[0mset_ellipsoid\u001b[0m\u001b[0;34m(\u001b[0m\u001b[0mself\u001b[0m\u001b[0;34m,\u001b[0m \u001b[0mellipsoid\u001b[0m\u001b[0;34m)\u001b[0m\u001b[0;34m:\u001b[0m\u001b[0;34m\u001b[0m\u001b[0m\n",
      "\u001b[0;32m/cluster/storage/vcharvet/workspace/pythonProjects/geoloc-challenge/geolocenv/lib/python3.5/site-packages/geopy/distance.py\u001b[0m in \u001b[0;36m__init__\u001b[0;34m(self, *args, **kwargs)\u001b[0m\n\u001b[1;32m    162\u001b[0m         \u001b[0;32melif\u001b[0m \u001b[0mlen\u001b[0m\u001b[0;34m(\u001b[0m\u001b[0margs\u001b[0m\u001b[0;34m)\u001b[0m \u001b[0;34m>\u001b[0m \u001b[0;36m1\u001b[0m\u001b[0;34m:\u001b[0m\u001b[0;34m\u001b[0m\u001b[0m\n\u001b[1;32m    163\u001b[0m             \u001b[0;32mfor\u001b[0m \u001b[0ma\u001b[0m\u001b[0;34m,\u001b[0m \u001b[0mb\u001b[0m \u001b[0;32min\u001b[0m \u001b[0mutil\u001b[0m\u001b[0;34m.\u001b[0m\u001b[0mpairwise\u001b[0m\u001b[0;34m(\u001b[0m\u001b[0margs\u001b[0m\u001b[0;34m)\u001b[0m\u001b[0;34m:\u001b[0m\u001b[0;34m\u001b[0m\u001b[0m\n\u001b[0;32m--> 164\u001b[0;31m                 \u001b[0mkilometers\u001b[0m \u001b[0;34m+=\u001b[0m \u001b[0mself\u001b[0m\u001b[0;34m.\u001b[0m\u001b[0mmeasure\u001b[0m\u001b[0;34m(\u001b[0m\u001b[0ma\u001b[0m\u001b[0;34m,\u001b[0m \u001b[0mb\u001b[0m\u001b[0;34m)\u001b[0m\u001b[0;34m\u001b[0m\u001b[0m\n\u001b[0m\u001b[1;32m    165\u001b[0m \u001b[0;34m\u001b[0m\u001b[0m\n\u001b[1;32m    166\u001b[0m         \u001b[0mkilometers\u001b[0m \u001b[0;34m+=\u001b[0m \u001b[0munits\u001b[0m\u001b[0;34m.\u001b[0m\u001b[0mkilometers\u001b[0m\u001b[0;34m(\u001b[0m\u001b[0;34m**\u001b[0m\u001b[0mkwargs\u001b[0m\u001b[0;34m)\u001b[0m\u001b[0;34m\u001b[0m\u001b[0m\n",
      "\u001b[0;32m/cluster/storage/vcharvet/workspace/pythonProjects/geoloc-challenge/geolocenv/lib/python3.5/site-packages/geopy/distance.py\u001b[0m in \u001b[0;36mmeasure\u001b[0;34m(self, a, b)\u001b[0m\n\u001b[1;32m    418\u001b[0m \u001b[0;34m\u001b[0m\u001b[0m\n\u001b[1;32m    419\u001b[0m         s12 = self.geod.Inverse(lat1, lon1, lat2, lon2,\n\u001b[0;32m--> 420\u001b[0;31m                                 Geodesic.DISTANCE)['s12']\n\u001b[0m\u001b[1;32m    421\u001b[0m \u001b[0;34m\u001b[0m\u001b[0m\n\u001b[1;32m    422\u001b[0m         \u001b[0;32mreturn\u001b[0m \u001b[0ms12\u001b[0m\u001b[0;34m\u001b[0m\u001b[0m\n",
      "\u001b[0;32m/cluster/storage/vcharvet/workspace/pythonProjects/geoloc-challenge/geolocenv/lib/python3.5/site-packages/geographiclib/geodesic.py\u001b[0m in \u001b[0;36mInverse\u001b[0;34m(self, lat1, lon1, lat2, lon2, outmask)\u001b[0m\n\u001b[1;32m   1034\u001b[0m \u001b[0;34m\u001b[0m\u001b[0m\n\u001b[1;32m   1035\u001b[0m     a12, s12, salp1,calp1, salp2,calp2, m12, M12, M21, S12 = self._GenInverse(\n\u001b[0;32m-> 1036\u001b[0;31m       lat1, lon1, lat2, lon2, outmask)\n\u001b[0m\u001b[1;32m   1037\u001b[0m     \u001b[0moutmask\u001b[0m \u001b[0;34m&=\u001b[0m \u001b[0mGeodesic\u001b[0m\u001b[0;34m.\u001b[0m\u001b[0mOUT_MASK\u001b[0m\u001b[0;34m\u001b[0m\u001b[0m\n\u001b[1;32m   1038\u001b[0m     \u001b[0;32mif\u001b[0m \u001b[0moutmask\u001b[0m \u001b[0;34m&\u001b[0m \u001b[0mGeodesic\u001b[0m\u001b[0;34m.\u001b[0m\u001b[0mLONG_UNROLL\u001b[0m\u001b[0;34m:\u001b[0m\u001b[0;34m\u001b[0m\u001b[0m\n",
      "\u001b[0;32m/cluster/storage/vcharvet/workspace/pythonProjects/geoloc-challenge/geolocenv/lib/python3.5/site-packages/geographiclib/geodesic.py\u001b[0m in \u001b[0;36m_GenInverse\u001b[0;34m(self, lat1, lon1, lat2, lon2, outmask)\u001b[0m\n\u001b[1;32m    753\u001b[0m     \u001b[0msbet1\u001b[0m\u001b[0;34m,\u001b[0m \u001b[0mcbet1\u001b[0m \u001b[0;34m=\u001b[0m \u001b[0mMath\u001b[0m\u001b[0;34m.\u001b[0m\u001b[0mnorm\u001b[0m\u001b[0;34m(\u001b[0m\u001b[0msbet1\u001b[0m\u001b[0;34m,\u001b[0m \u001b[0mcbet1\u001b[0m\u001b[0;34m)\u001b[0m\u001b[0;34m;\u001b[0m \u001b[0mcbet1\u001b[0m \u001b[0;34m=\u001b[0m \u001b[0mmax\u001b[0m\u001b[0;34m(\u001b[0m\u001b[0mGeodesic\u001b[0m\u001b[0;34m.\u001b[0m\u001b[0mtiny_\u001b[0m\u001b[0;34m,\u001b[0m \u001b[0mcbet1\u001b[0m\u001b[0;34m)\u001b[0m\u001b[0;34m\u001b[0m\u001b[0m\n\u001b[1;32m    754\u001b[0m \u001b[0;34m\u001b[0m\u001b[0m\n\u001b[0;32m--> 755\u001b[0;31m     \u001b[0msbet2\u001b[0m\u001b[0;34m,\u001b[0m \u001b[0mcbet2\u001b[0m \u001b[0;34m=\u001b[0m \u001b[0mMath\u001b[0m\u001b[0;34m.\u001b[0m\u001b[0msincosd\u001b[0m\u001b[0;34m(\u001b[0m\u001b[0mlat2\u001b[0m\u001b[0;34m)\u001b[0m\u001b[0;34m;\u001b[0m \u001b[0msbet2\u001b[0m \u001b[0;34m*=\u001b[0m \u001b[0mself\u001b[0m\u001b[0;34m.\u001b[0m\u001b[0m_f1\u001b[0m\u001b[0;34m\u001b[0m\u001b[0m\n\u001b[0m\u001b[1;32m    756\u001b[0m     \u001b[0;31m# Ensure cbet2 = +epsilon at poles\u001b[0m\u001b[0;34m\u001b[0m\u001b[0;34m\u001b[0m\u001b[0m\n\u001b[1;32m    757\u001b[0m     \u001b[0msbet2\u001b[0m\u001b[0;34m,\u001b[0m \u001b[0mcbet2\u001b[0m \u001b[0;34m=\u001b[0m \u001b[0mMath\u001b[0m\u001b[0;34m.\u001b[0m\u001b[0mnorm\u001b[0m\u001b[0;34m(\u001b[0m\u001b[0msbet2\u001b[0m\u001b[0;34m,\u001b[0m \u001b[0mcbet2\u001b[0m\u001b[0;34m)\u001b[0m\u001b[0;34m;\u001b[0m \u001b[0mcbet2\u001b[0m \u001b[0;34m=\u001b[0m \u001b[0mmax\u001b[0m\u001b[0;34m(\u001b[0m\u001b[0mGeodesic\u001b[0m\u001b[0;34m.\u001b[0m\u001b[0mtiny_\u001b[0m\u001b[0;34m,\u001b[0m \u001b[0mcbet2\u001b[0m\u001b[0;34m)\u001b[0m\u001b[0;34m\u001b[0m\u001b[0m\n",
      "\u001b[0;32m/cluster/storage/vcharvet/workspace/pythonProjects/geoloc-challenge/geolocenv/lib/python3.5/site-packages/geographiclib/geomath.py\u001b[0m in \u001b[0;36msincosd\u001b[0;34m(x)\u001b[0m\n\u001b[1;32m    158\u001b[0m     \u001b[0mr\u001b[0m \u001b[0;34m=\u001b[0m \u001b[0mmath\u001b[0m\u001b[0;34m.\u001b[0m\u001b[0mfmod\u001b[0m\u001b[0;34m(\u001b[0m\u001b[0mx\u001b[0m\u001b[0;34m,\u001b[0m \u001b[0;36m360\u001b[0m\u001b[0;34m)\u001b[0m\u001b[0;34m\u001b[0m\u001b[0m\n\u001b[1;32m    159\u001b[0m     \u001b[0mq\u001b[0m \u001b[0;34m=\u001b[0m \u001b[0mMath\u001b[0m\u001b[0;34m.\u001b[0m\u001b[0mnan\u001b[0m \u001b[0;32mif\u001b[0m \u001b[0mMath\u001b[0m\u001b[0;34m.\u001b[0m\u001b[0misnan\u001b[0m\u001b[0;34m(\u001b[0m\u001b[0mr\u001b[0m\u001b[0;34m)\u001b[0m \u001b[0;32melse\u001b[0m \u001b[0mint\u001b[0m\u001b[0;34m(\u001b[0m\u001b[0mmath\u001b[0m\u001b[0;34m.\u001b[0m\u001b[0mfloor\u001b[0m\u001b[0;34m(\u001b[0m\u001b[0mr\u001b[0m \u001b[0;34m/\u001b[0m \u001b[0;36m90\u001b[0m \u001b[0;34m+\u001b[0m \u001b[0;36m0.5\u001b[0m\u001b[0;34m)\u001b[0m\u001b[0;34m)\u001b[0m\u001b[0;34m\u001b[0m\u001b[0m\n\u001b[0;32m--> 160\u001b[0;31m     \u001b[0mr\u001b[0m \u001b[0;34m-=\u001b[0m \u001b[0;36m90\u001b[0m \u001b[0;34m*\u001b[0m \u001b[0mq\u001b[0m\u001b[0;34m;\u001b[0m \u001b[0mr\u001b[0m \u001b[0;34m=\u001b[0m \u001b[0mmath\u001b[0m\u001b[0;34m.\u001b[0m\u001b[0mradians\u001b[0m\u001b[0;34m(\u001b[0m\u001b[0mr\u001b[0m\u001b[0;34m)\u001b[0m\u001b[0;34m\u001b[0m\u001b[0m\n\u001b[0m\u001b[1;32m    161\u001b[0m     \u001b[0ms\u001b[0m \u001b[0;34m=\u001b[0m \u001b[0mmath\u001b[0m\u001b[0;34m.\u001b[0m\u001b[0msin\u001b[0m\u001b[0;34m(\u001b[0m\u001b[0mr\u001b[0m\u001b[0;34m)\u001b[0m\u001b[0;34m;\u001b[0m \u001b[0mc\u001b[0m \u001b[0;34m=\u001b[0m \u001b[0mmath\u001b[0m\u001b[0;34m.\u001b[0m\u001b[0mcos\u001b[0m\u001b[0;34m(\u001b[0m\u001b[0mr\u001b[0m\u001b[0;34m)\u001b[0m\u001b[0;34m\u001b[0m\u001b[0m\n\u001b[1;32m    162\u001b[0m     \u001b[0mq\u001b[0m \u001b[0;34m=\u001b[0m \u001b[0mq\u001b[0m \u001b[0;34m%\u001b[0m \u001b[0;36m4\u001b[0m\u001b[0;34m\u001b[0m\u001b[0m\n",
      "\u001b[0;31mKeyboardInterrupt\u001b[0m: "
     ]
    }
   ],
   "source": [
    "%%time\n",
    "p = int(np.sqrt(X.shape[1]))\n",
    "knn = KNeighborsRegressor(n_neighbors=5, metric=geo_distance)\n",
    "knn.fit(rf.predict(X_train_scale), y_train)\n",
    "pred_knn = pd.DataFrame(knn.predict(rf.predict(X_val_scale)), columns=['pred_lat', 'pred_long'], index=y_val.index)\n",
    "\n",
    "print('criterion for random forest: {:.3f}'\\\n",
    "      .format(criterion(pred_knn[['pred_lat', 'pred_long']], df_ytest, True)))"
   ]
  },
  {
   "cell_type": "code",
   "execution_count": 34,
   "metadata": {
    "collapsed": false
   },
   "outputs": [
    {
     "data": {
      "text/plain": [
       "8.228960773093362"
      ]
     },
     "execution_count": 34,
     "metadata": {},
     "output_type": "execute_result"
    }
   ],
   "source": [
    "criterion(pred_knn[['pred_lat', 'pred_long']], df_ytest, True)"
   ]
  },
  {
   "cell_type": "code",
   "execution_count": 26,
   "metadata": {
    "collapsed": false
   },
   "outputs": [
    {
     "name": "stderr",
     "output_type": "stream",
     "text": [
      "/cluster/storage/vcharvet/workspace/pythonProjects/geoloc-challenge/geolocenv/lib/python3.5/site-packages/scipy/stats/stats.py:1713: FutureWarning: Using a non-tuple sequence for multidimensional indexing is deprecated; use `arr[tuple(seq)]` instead of `arr[seq]`. In the future this will be interpreted as an array index, `arr[np.array(seq)]`, which will result either in an error or a different result.\n",
      "  return np.add.reduce(sorted[indexer] * weights, axis=axis) / sumval\n"
     ]
    },
    {
     "data": {
      "text/plain": [
       "<seaborn.axisgrid.JointGrid at 0x7fe99859bc50>"
      ]
     },
     "execution_count": 26,
     "metadata": {},
     "output_type": "execute_result"
    },
    {
     "data": {
      "image/png": "[encoded data removed]",
      "text/plain": [
       "<Figure size 432x432 with 3 Axes>"
      ]
     },
     "metadata": {},
     "output_type": "display_data"
    },
    {
     "data": {
      "image/png": "[encoded data removed]",
      "text/plain": [
       "<Figure size 432x432 with 3 Axes>"
      ]
     },
     "metadata": {},
     "output_type": "display_data"
    }
   ],
   "source": [
    "sns.jointplot(df_ytest['latitude'], pred_rf['pred_lat'], xlim=(20, 70), ylim=(20, 70), kind='reg')\n",
    "sns.jointplot(df_ytest['longitude'], pred_rf['pred_long'], xlim=(-10, 20), ylim=(-10, 20), kind='reg')"
   ]
  },
  {
   "cell_type": "markdown",
   "metadata": {},
   "source": [
    "## xgboost"
   ]
  },
  {
   "cell_type": "code",
   "execution_count": 18,
   "metadata": {
    "collapsed": true
   },
   "outputs": [],
   "source": [
    "import xgboost \n",
    "from sklearn.multioutput import MultiOutputRegressor"
   ]
  },
  {
   "cell_type": "code",
   "execution_count": 24,
   "metadata": {
    "collapsed": false
   },
   "outputs": [
    {
     "name": "stderr",
     "output_type": "stream",
     "text": [
      "[Parallel(n_jobs=24)]: Using backend LokyBackend with 24 concurrent workers.\n",
      "[Parallel(n_jobs=24)]: Done   2 out of   5 | elapsed: 50.5min remaining: 75.7min\n"
     ]
    },
    {
     "name": "stdout",
     "output_type": "stream",
     "text": [
      "6.9099899943074705 0.8804104690168645\n",
      "CPU times: user 1.28 s, sys: 10.1 s, total: 11.4 s\n",
      "Wall time: 52min 1s\n"
     ]
    },
    {
     "name": "stderr",
     "output_type": "stream",
     "text": [
      "[Parallel(n_jobs=24)]: Done   5 out of   5 | elapsed: 52.0min finished\n"
     ]
    }
   ],
   "source": [
    "%%time\n",
    "xgb = MultiOutputRegressor(xgboost.XGBRegressor(max_depth=10,n_jobs=24), n_jobs=-1)\n",
    "\n",
    "cv_xgb = cross_val_score(xgb, X_pca, y.values, scoring=custom_loss, cv=5, verbose=4, n_jobs=24)\n",
    "\n",
    "print(cv.mean(), cv.std())"
   ]
  },
  {
   "cell_type": "markdown",
   "metadata": {},
   "source": [
    "## Prediction"
   ]
  },
  {
   "cell_type": "code",
   "execution_count": 13,
   "metadata": {
    "collapsed": true
   },
   "outputs": [],
   "source": [
    "mean_lat, std_lat = y['latitude'].mean(), y['latitude'].std()\n",
    "mean_lng, std_lng = y['longitude'].mean(), y['longitude'].std()\n",
    "\n",
    "mask = (y['latitude'] < mean_lat + std_lat ) & (y['latitude'] > mean_lat - std_lat) & \\\n",
    "    (y['longitude'] < mean_lng + std_lng) & (y['longitude'] > mean_lng - std_lng)"
   ]
  },
  {
   "cell_type": "code",
   "execution_count": 14,
   "metadata": {
    "collapsed": false
   },
   "outputs": [
    {
     "data": {
      "text/plain": [
       "((957567,), 807086)"
      ]
     },
     "execution_count": 14,
     "metadata": {},
     "output_type": "execute_result"
    }
   ],
   "source": [
    "mask.shape, mask.sum()"
   ]
  },
  {
   "cell_type": "code",
   "execution_count": 13,
   "metadata": {
    "collapsed": false,
    "scrolled": true
   },
   "outputs": [
    {
     "name": "stderr",
     "output_type": "stream",
     "text": [
      "[Parallel(n_jobs=30)]: Using backend ThreadingBackend with 30 concurrent workers.\n",
      "[Parallel(n_jobs=30)]: Done 130 out of 130 | elapsed:  1.6min finished\n"
     ]
    },
    {
     "name": "stdout",
     "output_type": "stream",
     "text": [
      "CPU times: user 44min 9s, sys: 14.8 s, total: 44min 24s\n",
      "Wall time: 1min 45s\n"
     ]
    }
   ],
   "source": [
    "%%time\n",
    "rf = RandomForestRegressor(n_estimators=130, \n",
    "                           max_features='sqrt',\n",
    "                           max_depth=70,\n",
    "                           n_jobs=30, verbose=1).fit(X.loc[mask, :], y[mask].values)\n",
    "\n",
    "# xgb = MultiOutputRegressor(xgboost.XGBRegressor(max_depth=10,n_jobs=24), n_jobs=-1)\n",
    "# xgb.fit()"
   ]
  },
  {
   "cell_type": "code",
   "execution_count": 14,
   "metadata": {
    "collapsed": false,
    "scrolled": true
   },
   "outputs": [
    {
     "name": "stderr",
     "output_type": "stream",
     "text": [
      "[Parallel(n_jobs=30)]: Using backend ThreadingBackend with 30 concurrent workers.\n",
      "[Parallel(n_jobs=30)]: Done 130 out of 130 | elapsed:    0.8s finished\n"
     ]
    }
   ],
   "source": [
    "test_pred = pd.DataFrame(rf.predict(X_test), columns=['latitude', 'longitude'])\n",
    "test_pred['messageid'] = X_test.index"
   ]
  },
  {
   "cell_type": "code",
   "execution_count": 16,
   "metadata": {
    "collapsed": false
   },
   "outputs": [],
   "source": [
    "test_pred.to_csv('data/prediction_rf.csv')"
   ]
  },
  {
   "cell_type": "code",
   "execution_count": 20,
   "metadata": {
    "collapsed": false
   },
   "outputs": [],
   "source": [
    "from sklearn.neighbors import KNeighborsRegressor"
   ]
  },
  {
   "cell_type": "code",
   "execution_count": null,
   "metadata": {
    "collapsed": false
   },
   "outputs": [
    {
     "name": "stderr",
     "output_type": "stream",
     "text": [
      "[Parallel(n_jobs=30)]: Using backend ThreadingBackend with 30 concurrent workers.\n",
      "[Parallel(n_jobs=30)]: Done 130 out of 130 | elapsed:    9.8s finished\n",
      "[Parallel(n_jobs=30)]: Using backend ThreadingBackend with 30 concurrent workers.\n",
      "[Parallel(n_jobs=30)]: Done 130 out of 130 | elapsed:    0.8s finished\n"
     ]
    }
   ],
   "source": [
    "%%time\n",
    "knn = KNeighborsRegressor(n_neighbors=3, metric=geo_distance)\n",
    "knn.fit(rf.predict(X), y)\n",
    "pred_knn = pd.DataFrame(knn.predict(rf.predict(X_test)), columns=['pred_lat', 'pred_long'], index=y_val.index)"
   ]
  },
  {
   "cell_type": "code",
   "execution_count": null,
   "metadata": {
    "collapsed": true
   },
   "outputs": [],
   "source": [
    "pred_knn.head()"
   ]
  },
  {
   "cell_type": "code",
   "execution_count": null,
   "metadata": {
    "collapsed": true
   },
   "outputs": [],
   "source": [
    "1"
   ]
  },
  {
   "cell_type": "code",
   "execution_count": 21,
   "metadata": {
    "collapsed": false
   },
   "outputs": [
    {
     "data": {
      "text/plain": [
       "['data/clf/rf_6.9.joblib']"
      ]
     },
     "execution_count": 21,
     "metadata": {},
     "output_type": "execute_result"
    }
   ],
   "source": [
    "from joblib import dump\n",
    "\n",
    "dump(rf, 'data/clf/rf_6.9.joblib')\n"
   ]
  },
  {
   "cell_type": "code",
   "execution_count": 14,
   "metadata": {
    "collapsed": true
   },
   "outputs": [],
   "source": [
    "import seaborn as sns"
   ]
  },
  {
   "cell_type": "code",
   "execution_count": 19,
   "metadata": {
    "collapsed": false
   },
   "outputs": [
    {
     "data": {
      "text/plain": [
       "<matplotlib.axes._subplots.AxesSubplot at 0x7f99970e8e48>"
      ]
     },
     "execution_count": 19,
     "metadata": {},
     "output_type": "execute_result"
    },
    {
     "data": {
      "image/png": "[encoded data removed]",
      "text/plain": [
       "<Figure size 432x288 with 1 Axes>"
      ]
     },
     "metadata": {
      "needs_background": "light"
     },
     "output_type": "display_data"
    }
   ],
   "source": [
    "sns.distplot(Xy['latitude'])"
   ]
  },
  {
   "cell_type": "code",
   "execution_count": 21,
   "metadata": {
    "collapsed": false,
    "scrolled": true
   },
   "outputs": [
    {
     "name": "stderr",
     "output_type": "stream",
     "text": [
      "/cluster/storage/vcharvet/workspace/pythonProjects/geoloc-challenge/geolocenv/lib/python3.5/site-packages/scipy/stats/stats.py:1713: FutureWarning: Using a non-tuple sequence for multidimensional indexing is deprecated; use `arr[tuple(seq)]` instead of `arr[seq]`. In the future this will be interpreted as an array index, `arr[np.array(seq)]`, which will result either in an error or a different result.\n",
      "  return np.add.reduce(sorted[indexer] * weights, axis=axis) / sumval\n"
     ]
    },
    {
     "data": {
      "text/plain": [
       "<matplotlib.axes._subplots.AxesSubplot at 0x7f7707b067f0>"
      ]
     },
     "execution_count": 21,
     "metadata": {},
     "output_type": "execute_result"
    },
    {
     "data": {
      "image/png": "[encoded data removed]",
      "text/plain": [
       "<Figure size 432x288 with 1 Axes>"
      ]
     },
     "metadata": {},
     "output_type": "display_data"
    }
   ],
   "source": [
    "sns.distplot(test_pred['latitude'])"
   ]
  },
  {
   "cell_type": "code",
   "execution_count": null,
   "metadata": {
    "collapsed": true
   },
   "outputs": [],
   "source": [
    "sns.jointplot(x=Xy['longitude'], y=test_pred['longitude'], "
   ]
  },
  {
   "cell_type": "code",
   "execution_count": 22,
   "metadata": {
    "collapsed": true
   },
   "outputs": [],
   "source": [
    "test_pred.to_csv('data/prediction_rf.csv')"
   ]
  },
  {
   "cell_type": "code",
   "execution_count": 39,
   "metadata": {
    "collapsed": false
   },
   "outputs": [
    {
     "name": "stdout",
     "output_type": "stream",
     "text": [
      "DONE\n"
     ]
    }
   ],
   "source": [
    "print('DONE')"
   ]
  },
  {
   "cell_type": "code",
   "execution_count": 40,
   "metadata": {
    "collapsed": false
   },
   "outputs": [
    {
     "data": {
      "text/html": [
       "<div>\n",
       "<style scoped>\n",
       "    .dataframe tbody tr th:only-of-type {\n",
       "        vertical-align: middle;\n",
       "    }\n",
       "\n",
       "    .dataframe tbody tr th {\n",
       "        vertical-align: top;\n",
       "    }\n",
       "\n",
       "    .dataframe thead th {\n",
       "        text-align: right;\n",
       "    }\n",
       "</style>\n",
       "<table border=\"1\" class=\"dataframe\">\n",
       "  <thead>\n",
       "    <tr style=\"text-align: right;\">\n",
       "      <th></th>\n",
       "      <th>latitude</th>\n",
       "      <th>longitude</th>\n",
       "    </tr>\n",
       "  </thead>\n",
       "  <tbody>\n",
       "    <tr>\n",
       "      <th>count</th>\n",
       "      <td>89967.000000</td>\n",
       "      <td>89967.000000</td>\n",
       "    </tr>\n",
       "    <tr>\n",
       "      <th>mean</th>\n",
       "      <td>48.876227</td>\n",
       "      <td>2.308530</td>\n",
       "    </tr>\n",
       "    <tr>\n",
       "      <th>std</th>\n",
       "      <td>0.044139</td>\n",
       "      <td>0.063993</td>\n",
       "    </tr>\n",
       "    <tr>\n",
       "      <th>min</th>\n",
       "      <td>48.526153</td>\n",
       "      <td>1.741678</td>\n",
       "    </tr>\n",
       "    <tr>\n",
       "      <th>25%</th>\n",
       "      <td>48.851955</td>\n",
       "      <td>2.281289</td>\n",
       "    </tr>\n",
       "    <tr>\n",
       "      <th>50%</th>\n",
       "      <td>48.868848</td>\n",
       "      <td>2.314087</td>\n",
       "    </tr>\n",
       "    <tr>\n",
       "      <th>75%</th>\n",
       "      <td>48.890736</td>\n",
       "      <td>2.343436</td>\n",
       "    </tr>\n",
       "    <tr>\n",
       "      <th>max</th>\n",
       "      <td>49.547996</td>\n",
       "      <td>2.663995</td>\n",
       "    </tr>\n",
       "  </tbody>\n",
       "</table>\n",
       "</div>"
      ],
      "text/plain": [
       "           latitude     longitude\n",
       "count  89967.000000  89967.000000\n",
       "mean      48.876227      2.308530\n",
       "std        0.044139      0.063993\n",
       "min       48.526153      1.741678\n",
       "25%       48.851955      2.281289\n",
       "50%       48.868848      2.314087\n",
       "75%       48.890736      2.343436\n",
       "max       49.547996      2.663995"
      ]
     },
     "execution_count": 40,
     "metadata": {},
     "output_type": "execute_result"
    }
   ],
   "source": [
    "test_pred.describe()"
   ]
  },
  {
   "cell_type": "code",
   "execution_count": 41,
   "metadata": {
    "collapsed": false
   },
   "outputs": [
    {
     "data": {
      "text/html": [
       "<div>\n",
       "<style scoped>\n",
       "    .dataframe tbody tr th:only-of-type {\n",
       "        vertical-align: middle;\n",
       "    }\n",
       "\n",
       "    .dataframe tbody tr th {\n",
       "        vertical-align: top;\n",
       "    }\n",
       "\n",
       "    .dataframe thead th {\n",
       "        text-align: right;\n",
       "    }\n",
       "</style>\n",
       "<table border=\"1\" class=\"dataframe\">\n",
       "  <thead>\n",
       "    <tr style=\"text-align: right;\">\n",
       "      <th></th>\n",
       "      <th>latitude</th>\n",
       "      <th>longitude</th>\n",
       "    </tr>\n",
       "  </thead>\n",
       "  <tbody>\n",
       "    <tr>\n",
       "      <th>count</th>\n",
       "      <td>957567.000000</td>\n",
       "      <td>957567.000000</td>\n",
       "    </tr>\n",
       "    <tr>\n",
       "      <th>mean</th>\n",
       "      <td>48.878232</td>\n",
       "      <td>2.363743</td>\n",
       "    </tr>\n",
       "    <tr>\n",
       "      <th>std</th>\n",
       "      <td>0.123753</td>\n",
       "      <td>0.171150</td>\n",
       "    </tr>\n",
       "    <tr>\n",
       "      <th>min</th>\n",
       "      <td>27.029945</td>\n",
       "      <td>-27.022779</td>\n",
       "    </tr>\n",
       "    <tr>\n",
       "      <th>25%</th>\n",
       "      <td>48.835434</td>\n",
       "      <td>2.290130</td>\n",
       "    </tr>\n",
       "    <tr>\n",
       "      <th>50%</th>\n",
       "      <td>48.876179</td>\n",
       "      <td>2.350454</td>\n",
       "    </tr>\n",
       "    <tr>\n",
       "      <th>75%</th>\n",
       "      <td>48.919693</td>\n",
       "      <td>2.429126</td>\n",
       "    </tr>\n",
       "    <tr>\n",
       "      <th>max</th>\n",
       "      <td>66.717812</td>\n",
       "      <td>31.491501</td>\n",
       "    </tr>\n",
       "  </tbody>\n",
       "</table>\n",
       "</div>"
      ],
      "text/plain": [
       "            latitude      longitude\n",
       "count  957567.000000  957567.000000\n",
       "mean       48.878232       2.363743\n",
       "std         0.123753       0.171150\n",
       "min        27.029945     -27.022779\n",
       "25%        48.835434       2.290130\n",
       "50%        48.876179       2.350454\n",
       "75%        48.919693       2.429126\n",
       "max        66.717812      31.491501"
      ]
     },
     "execution_count": 41,
     "metadata": {},
     "output_type": "execute_result"
    }
   ],
   "source": [
    "y.describe()"
   ]
  }
 ],
 "metadata": {
  "kernelspec": {
   "display_name": "Python3 (geolocenv)",
   "language": "python",
   "name": "geolocenv"
  },
  "language_info": {
   "codemirror_mode": {
    "name": "ipython",
    "version": 3
   },
   "file_extension": ".py",
   "mimetype": "text/x-python",
   "name": "python",
   "nbconvert_exporter": "python",
   "pygments_lexer": "ipython3",
   "version": "3.5.3"
  }
 },
 "nbformat": 4,
 "nbformat_minor": 2
}
