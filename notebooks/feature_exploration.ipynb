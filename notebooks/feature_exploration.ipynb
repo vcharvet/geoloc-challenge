{
 "cells": [
  {
   "cell_type": "markdown",
   "metadata": {},
   "source": [
    "## Notebook for data viz\n",
    "\n",
    "To explore the features and targets"
   ]
  },
  {
   "cell_type": "code",
   "execution_count": 1,
   "metadata": {},
   "outputs": [
    {
     "name": "stdout",
     "output_type": "stream",
     "text": [
      "['', '/home/valou/anaconda3/lib/python36.zip', '/home/valou/anaconda3/lib/python3.6', '/home/valou/anaconda3/lib/python3.6/lib-dynload', '/home/valou/Documents/télécom/3a/IA317-large_scale_ML/Projet_IA317/geolocenv/lib/python3.6/site-packages', '/home/valou/Documents/télécom/3a/IA317-large_scale_ML/Projet_IA317/geolocenv/lib/python3.6/site-packages/IPython/extensions', '/home/valou/.ipython', '/home/valou/Documents/télécom/3a/IA317-large_scale_ML/Projet_IA317'] /home/valou/Documents/télécom/3a/IA317-large_scale_ML/Projet_IA317\n"
     ]
    }
   ],
   "source": [
    "%matplotlib inline\n",
    "import numpy as np\n",
    "import sys\n",
    "import os\n",
    "import pandas as pd\n",
    "import matplotlib.pyplot as plt\n",
    "import math\n",
    "\n",
    "os.chdir('..') ; sys.path.append(os.getcwd())\n",
    "# sys.path.append('../..')\n",
    "\n",
    "print(sys.path, os.getcwd())"
   ]
  },
  {
   "cell_type": "markdown",
   "metadata": {},
   "source": [
    "## Loading data"
   ]
  },
  {
   "cell_type": "code",
   "execution_count": 2,
   "metadata": {},
   "outputs": [],
   "source": [
    "toy_data = pd.read_csv('data/Toy/db_toy.csv', sep=';')\n",
    "toy_labels = pd.read_csv('data/Toy/labels_toy.csv', sep=';', usecols=['latitude', 'longitude'] )"
   ]
  },
  {
   "cell_type": "code",
   "execution_count": 3,
   "metadata": {},
   "outputs": [],
   "source": [
    "from utils.plot_map import PlotMap\n",
    "\n",
    "# PlotMap(train_labels_df)\n",
    "PlotMap(toy_labels)"
   ]
  },
  {
   "cell_type": "code",
   "execution_count": null,
   "metadata": {},
   "outputs": [],
   "source": [
    "        "
   ]
  }
 ],
 "metadata": {
  "kernelspec": {
   "display_name": "geoloc virtualenv",
   "language": "python",
   "name": "geolocenv"
  },
  "language_info": {
   "codemirror_mode": {
    "name": "ipython",
    "version": 3
   },
   "file_extension": ".py",
   "mimetype": "text/x-python",
   "name": "python",
   "nbconvert_exporter": "python",
   "pygments_lexer": "ipython3",
   "version": "3.6.5"
  }
 },
 "nbformat": 4,
 "nbformat_minor": 2
}
