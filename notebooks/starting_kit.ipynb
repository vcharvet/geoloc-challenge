{
 "cells": [
  {
   "cell_type": "markdown",
   "metadata": {},
   "source": [
    "# Introduction\n"
   ]
  },
  {
   "cell_type": "markdown",
   "metadata": {},
   "source": [
    "## Challenge Large Scale Machine Learning\n",
    "\n",
    "### Authors: \n",
    "#### Kevin Elgui (kevin.elgui@gmail.com), Pascal Bianchi\n",
    "\n"
   ]
  },
  {
   "cell_type": "markdown",
   "metadata": {},
   "source": [
    "### Geolocation challenge\n",
    "\n",
    "The goal of this challenge is to develop a system which tries to perform a geolocation of connected devices within an IoT Network.\n",
    "\n",
    "The challenge will have two phases. Please read the below information carefully.\n",
    "\n",
    "In the first phase of the challenge, you will be provided a training dataset which contains the raw messages and their corresponding coordinates. We will also provide you a validation dataset, which only contains the raw messages. The labes of the validation set will not be provided. In this phase, you will train your system based on this data and the ranking in the challenge webpage will be based on your score obtained on the validation data.\n",
    "\n",
    "The second phase of the challenge will start only a couple of hours before the deadline. Within this period, we will provide you the test set. You will need to run the algorithm that you developed on the first phase on this dataset and submit your predictions to the challenge webpage. Your final ranks will be determined on this dataset. Note that this phase will only last a couple of hours, which means that you will not be able to tune your algorithm on this dataset."
   ]
  },
  {
   "cell_type": "markdown",
   "metadata": {},
   "source": [
    "# The properties of the dataset:\n"
   ]
  },
  {
   "cell_type": "markdown",
   "metadata": {},
   "source": [
    "### Training data:\n"
   ]
  },
  {
   "cell_type": "markdown",
   "metadata": {},
   "source": [
    "The training set contains raw messages (lines) and their labels (GPS-position). There are ?? messages in this dataset. Each message is of size 1 x 20, where 20 is the number of message descriptors. For each message there is a label, a couple (latitude, longitude). "
   ]
  },
  {
   "cell_type": "markdown",
   "metadata": {},
   "source": [
    "### Validation data:\n",
    "\n"
   ]
  },
  {
   "cell_type": "markdown",
   "metadata": {},
   "source": [
    "The validation set only contains raw messages. There are ?? messages in this dataset, where the format is the same as before. The labels of this dataset will not be provided. Within the first phase, your ranks will be calculated based on this dataset."
   ]
  },
  {
   "cell_type": "markdown",
   "metadata": {},
   "source": [
    "### Test data:\n"
   ]
  },
  {
   "cell_type": "markdown",
   "metadata": {},
   "source": [
    "The test set only contains raw messages as well. There will be ?? messages in this dataset, the format is always the same. The labels of this dataset will not be provided either. This dataset will be provided only in the second phase: only a couple of hours before the challenge deadline. Your final ranks will be calculated based on this dataset."
   ]
  },
  {
   "cell_type": "markdown",
   "metadata": {},
   "source": [
    "## The performance criterion¶"
   ]
  },
  {
   "cell_type": "markdown",
   "metadata": {},
   "source": [
    "The question of a suitable criterion for evaluation is tough. In practice, in order to suit industrial requirements, we evaluate your prediction throught the 90% quantile of the error vector, which is computed as follows:\n",
    "$$ error = d_V(pred, true),$$ where $d_V$ is the Vincenty distance between to GPS-coordinates. Finally:\n",
    "\n",
    "$$ criterion =  error_{(90\\%)}$$\n",
    "In other words, this criterion corresponds to the max error distance made by your model on $90\\%$ of the test set.\n",
    "The lower the score, the better the performance."
   ]
  },
  {
   "cell_type": "markdown",
   "metadata": {},
   "source": [
    "# Training Data"
   ]
  },
  {
   "cell_type": "markdown",
   "metadata": {},
   "source": [
    "Raw messages: lien_to_raw_messages_train"
   ]
  },
  {
   "cell_type": "markdown",
   "metadata": {},
   "source": [
    "GPS-coordinates: lien_to_label_train"
   ]
  },
  {
   "cell_type": "markdown",
   "metadata": {},
   "source": [
    "# Validation Data "
   ]
  },
  {
   "cell_type": "markdown",
   "metadata": {},
   "source": [
    "Raw messages: lien_to_raw_messages_val"
   ]
  },
  {
   "cell_type": "markdown",
   "metadata": {},
   "source": [
    "# Example submission"
   ]
  },
  {
   "cell_type": "code",
   "execution_count": 1,
   "metadata": {},
   "outputs": [],
   "source": [
    "%matplotlib inline\n",
    "import numpy as np\n",
    "import sys\n",
    "import os\n",
    "import pandas as pd\n",
    "import matplotlib.pyplot as plt\n",
    "import math\n",
    "# from geopy.distance import vincenty"
   ]
  },
  {
   "cell_type": "code",
   "execution_count": 2,
   "metadata": {},
   "outputs": [
    {
     "name": "stdout",
     "output_type": "stream",
     "text": [
      "['', '/home/valou/anaconda3/lib/python36.zip', '/home/valou/anaconda3/lib/python3.6', '/home/valou/anaconda3/lib/python3.6/lib-dynload', '/home/valou/Documents/télécom/3a/IA317-large_scale_ML/Projet_IA317/geolocenv/lib/python3.6/site-packages', '/home/valou/Documents/télécom/3a/IA317-large_scale_ML/Projet_IA317/geolocenv/lib/python3.6/site-packages/IPython/extensions', '/home/valou/.ipython', '/home/valou/Documents/télécom/3a/IA317-large_scale_ML/Projet_IA317'] /home/valou/Documents/télécom/3a/IA317-large_scale_ML/Projet_IA317\n"
     ]
    }
   ],
   "source": [
    "# adding utils to path to use scripts\n",
    "os.chdir('..') ; sys.path.append(os.getcwd())\n",
    "# sys.path.append('../..')\n",
    "\n",
    "print(sys.path, os.getcwd())"
   ]
  },
  {
   "cell_type": "markdown",
   "metadata": {},
   "source": [
    "## Loading and investigate the data"
   ]
  },
  {
   "cell_type": "code",
   "execution_count": 58,
   "metadata": {
    "scrolled": false
   },
   "outputs": [
    {
     "ename": "AssertionError",
     "evalue": "",
     "output_type": "error",
     "traceback": [
      "\u001b[0;31m---------------------------------------------------------------------------\u001b[0m",
      "\u001b[0;31mAssertionError\u001b[0m                            Traceback (most recent call last)",
      "\u001b[0;32m<ipython-input-58-c81d22c495ab>\u001b[0m in \u001b[0;36m<module>\u001b[0;34m()\u001b[0m\n\u001b[1;32m      1\u001b[0m \u001b[0mtrain_messages_fname\u001b[0m \u001b[0;34m=\u001b[0m \u001b[0;34m'../Data/Train/db_train.csv'\u001b[0m\u001b[0;34m\u001b[0m\u001b[0m\n\u001b[0;32m----> 2\u001b[0;31m \u001b[0;32massert\u001b[0m\u001b[0;34m(\u001b[0m\u001b[0mos\u001b[0m\u001b[0;34m.\u001b[0m\u001b[0mpath\u001b[0m\u001b[0;34m.\u001b[0m\u001b[0mexists\u001b[0m\u001b[0;34m(\u001b[0m\u001b[0mtrain_messages_fname\u001b[0m\u001b[0;34m)\u001b[0m\u001b[0;34m)\u001b[0m\u001b[0;34m\u001b[0m\u001b[0m\n\u001b[0m\u001b[1;32m      3\u001b[0m \u001b[0mtrain_labels_fname\u001b[0m \u001b[0;34m=\u001b[0m \u001b[0;34m'../Data/Train/label_train.csv'\u001b[0m\u001b[0;34m\u001b[0m\u001b[0m\n\u001b[1;32m      4\u001b[0m \u001b[0;32massert\u001b[0m\u001b[0;34m(\u001b[0m\u001b[0mos\u001b[0m\u001b[0;34m.\u001b[0m\u001b[0mpath\u001b[0m\u001b[0;34m.\u001b[0m\u001b[0mexists\u001b[0m\u001b[0;34m(\u001b[0m\u001b[0mtrain_labels_fname\u001b[0m\u001b[0;34m)\u001b[0m\u001b[0;34m)\u001b[0m\u001b[0;34m\u001b[0m\u001b[0m\n\u001b[1;32m      5\u001b[0m \u001b[0mval_messages_fname\u001b[0m  \u001b[0;34m=\u001b[0m \u001b[0;34m'../Data/Validation/db_val.csv'\u001b[0m\u001b[0;34m\u001b[0m\u001b[0m\n",
      "\u001b[0;31mAssertionError\u001b[0m: "
     ]
    }
   ],
   "source": [
    "train_messages_fname = '../Data/Train/db_train.csv'\n",
    "assert(os.path.exists(train_messages_fname))\n",
    "train_labels_fname = '../Data/Train/label_train.csv'\n",
    "assert(os.path.exists(train_labels_fname))\n",
    "val_messages_fname  = '../Data/Validation/db_val.csv'\n",
    "assert(os.path.exists(val_messages_fname))\n",
    "val_labels_fname = '../Data/Validation/label_val.csv'\n",
    "\n",
    "train_messages_df = pd.read_csv(train_messages_fname, sep=';', low_memory=False)\n",
    "train_labels_df = pd.read_csv(train_labels__fname, sep=';', low_memory=False)\n",
    "\n",
    "train_messages_fname.head()\n"
   ]
  },
  {
   "cell_type": "markdown",
   "metadata": {},
   "source": [
    "### Data Visualization (requires bokeh)\n"
   ]
  },
  {
   "cell_type": "code",
   "execution_count": 3,
   "metadata": {},
   "outputs": [],
   "source": [
    "from bokeh.io import output_notebook"
   ]
  },
  {
   "cell_type": "code",
   "execution_count": 7,
   "metadata": {
    "scrolled": true
   },
   "outputs": [],
   "source": [
    "## If you have bokeh installed, you can uncomment the last commands. \n",
    "\n",
    "\n",
    "from utils.plot_map import PlotMap\n",
    "# PlotMap(train_labels_df)\n",
    "PlotMap(toy_labels)"
   ]
  },
  {
   "cell_type": "markdown",
   "metadata": {},
   "source": [
    "## Example prediction\n",
    "\n",
    "In the following, we will train a simple regressor on toy data."
   ]
  },
  {
   "cell_type": "code",
   "execution_count": 3,
   "metadata": {},
   "outputs": [],
   "source": [
    "toy_data = pd.read_csv('data/Toy/db_toy.csv', sep=';')\n",
    "toy_labels = pd.read_csv('data/Toy/labels_toy.csv', sep=';', usecols=['latitude', 'longitude'] )"
   ]
  },
  {
   "cell_type": "markdown",
   "metadata": {},
   "source": [
    "### Features selection\n",
    "\n",
    "In this example, we propose a simple feature matrix $X$ such that :\n",
    "\n",
    "$$\\begin{cases} X[i,j] &= 1 &\\text{ if the $j^{th}$ basestation received the $i^{th}$ message}, \\\\\n",
    " X[i,j] &= 0, &\\text{otherwise}. \\end{cases} $$\n",
    "\n",
    "For the project, you are free to chose other parameters for your model."
   ]
  },
  {
   "cell_type": "code",
   "execution_count": 15,
   "metadata": {},
   "outputs": [
    {
     "data": {
      "text/html": [
       "<div>\n",
       "<style scoped>\n",
       "    .dataframe tbody tr th:only-of-type {\n",
       "        vertical-align: middle;\n",
       "    }\n",
       "\n",
       "    .dataframe tbody tr th {\n",
       "        vertical-align: top;\n",
       "    }\n",
       "\n",
       "    .dataframe thead th {\n",
       "        text-align: right;\n",
       "    }\n",
       "</style>\n",
       "<table border=\"1\" class=\"dataframe\">\n",
       "  <thead>\n",
       "    <tr style=\"text-align: right;\">\n",
       "      <th></th>\n",
       "      <th>messageid</th>\n",
       "      <th>latitude</th>\n",
       "      <th>longitude</th>\n",
       "      <th>did</th>\n",
       "      <th>did_hex</th>\n",
       "      <th>time_msg</th>\n",
       "      <th>time_ux</th>\n",
       "      <th>time_ux_client</th>\n",
       "      <th>motion</th>\n",
       "      <th>speed</th>\n",
       "      <th>...</th>\n",
       "      <th>radius</th>\n",
       "      <th>datepart</th>\n",
       "      <th>seqnumber</th>\n",
       "      <th>dtid</th>\n",
       "      <th>nseq</th>\n",
       "      <th>rssi</th>\n",
       "      <th>bsid_hex</th>\n",
       "      <th>bsid</th>\n",
       "      <th>snr</th>\n",
       "      <th>freq</th>\n",
       "    </tr>\n",
       "  </thead>\n",
       "  <tbody>\n",
       "    <tr>\n",
       "      <th>0</th>\n",
       "      <td>5a4b36a612f1431c0bbcfe5a</td>\n",
       "      <td>49.150979</td>\n",
       "      <td>2.584248</td>\n",
       "      <td>2158065</td>\n",
       "      <td>20EDF1</td>\n",
       "      <td>2018-01-02 07:37:10</td>\n",
       "      <td>1514878630000</td>\n",
       "      <td>1514878240000</td>\n",
       "      <td>t</td>\n",
       "      <td>127.0</td>\n",
       "      <td>...</td>\n",
       "      <td>NaN</td>\n",
       "      <td>2018-01-02</td>\n",
       "      <td>536</td>\n",
       "      <td>5491a93b9336908c3b1b4c70</td>\n",
       "      <td>0</td>\n",
       "      <td>-139</td>\n",
       "      <td>F4B</td>\n",
       "      <td>3915</td>\n",
       "      <td>11.740000</td>\n",
       "      <td>868136469</td>\n",
       "    </tr>\n",
       "    <tr>\n",
       "      <th>1</th>\n",
       "      <td>5a4b36a612f1431c0bbcfe5a</td>\n",
       "      <td>49.150979</td>\n",
       "      <td>2.584248</td>\n",
       "      <td>2158065</td>\n",
       "      <td>20EDF1</td>\n",
       "      <td>2018-01-02 07:37:10</td>\n",
       "      <td>1514878630000</td>\n",
       "      <td>1514878240000</td>\n",
       "      <td>t</td>\n",
       "      <td>127.0</td>\n",
       "      <td>...</td>\n",
       "      <td>NaN</td>\n",
       "      <td>2018-01-02</td>\n",
       "      <td>536</td>\n",
       "      <td>5491a93b9336908c3b1b4c70</td>\n",
       "      <td>0</td>\n",
       "      <td>-137</td>\n",
       "      <td>33B8</td>\n",
       "      <td>13240</td>\n",
       "      <td>13.980000</td>\n",
       "      <td>868137053</td>\n",
       "    </tr>\n",
       "    <tr>\n",
       "      <th>2</th>\n",
       "      <td>5a4b36a612f1431c0bbcfe5a</td>\n",
       "      <td>49.150979</td>\n",
       "      <td>2.584248</td>\n",
       "      <td>2158065</td>\n",
       "      <td>20EDF1</td>\n",
       "      <td>2018-01-02 07:37:10</td>\n",
       "      <td>1514878630000</td>\n",
       "      <td>1514878240000</td>\n",
       "      <td>t</td>\n",
       "      <td>127.0</td>\n",
       "      <td>...</td>\n",
       "      <td>NaN</td>\n",
       "      <td>2018-01-02</td>\n",
       "      <td>536</td>\n",
       "      <td>5491a93b9336908c3b1b4c70</td>\n",
       "      <td>0</td>\n",
       "      <td>-125</td>\n",
       "      <td>33C1</td>\n",
       "      <td>13249</td>\n",
       "      <td>26.580000</td>\n",
       "      <td>868136944</td>\n",
       "    </tr>\n",
       "    <tr>\n",
       "      <th>3</th>\n",
       "      <td>5a4b370f12f1431c0bbda371</td>\n",
       "      <td>49.368966</td>\n",
       "      <td>2.647366</td>\n",
       "      <td>5140063</td>\n",
       "      <td>4E6E5F</td>\n",
       "      <td>2018-01-02 07:38:55</td>\n",
       "      <td>1514878735000</td>\n",
       "      <td>1514878300000</td>\n",
       "      <td>f</td>\n",
       "      <td>0.0</td>\n",
       "      <td>...</td>\n",
       "      <td>NaN</td>\n",
       "      <td>2018-01-02</td>\n",
       "      <td>3581</td>\n",
       "      <td>5491a93b9336908c3b1b4c70</td>\n",
       "      <td>0</td>\n",
       "      <td>-139</td>\n",
       "      <td>2AE9</td>\n",
       "      <td>10985</td>\n",
       "      <td>12.210000</td>\n",
       "      <td>868109404</td>\n",
       "    </tr>\n",
       "    <tr>\n",
       "      <th>4</th>\n",
       "      <td>5a4b3958e541cd714dedf24b</td>\n",
       "      <td>49.244820</td>\n",
       "      <td>3.094714</td>\n",
       "      <td>2154347</td>\n",
       "      <td>20DF6B</td>\n",
       "      <td>2018-01-02 07:48:40</td>\n",
       "      <td>1514879320000</td>\n",
       "      <td>1514879320000</td>\n",
       "      <td>f</td>\n",
       "      <td>0.0</td>\n",
       "      <td>...</td>\n",
       "      <td>NaN</td>\n",
       "      <td>2018-01-02</td>\n",
       "      <td>3922</td>\n",
       "      <td>5491a93b9336908c3b1b4c70</td>\n",
       "      <td>0</td>\n",
       "      <td>-100</td>\n",
       "      <td>461</td>\n",
       "      <td>1121</td>\n",
       "      <td>51.560001</td>\n",
       "      <td>868188574</td>\n",
       "    </tr>\n",
       "  </tbody>\n",
       "</table>\n",
       "<p>5 rows × 23 columns</p>\n",
       "</div>"
      ],
      "text/plain": [
       "                  messageid   latitude  longitude      did did_hex  \\\n",
       "0  5a4b36a612f1431c0bbcfe5a  49.150979   2.584248  2158065  20EDF1   \n",
       "1  5a4b36a612f1431c0bbcfe5a  49.150979   2.584248  2158065  20EDF1   \n",
       "2  5a4b36a612f1431c0bbcfe5a  49.150979   2.584248  2158065  20EDF1   \n",
       "3  5a4b370f12f1431c0bbda371  49.368966   2.647366  5140063  4E6E5F   \n",
       "4  5a4b3958e541cd714dedf24b  49.244820   3.094714  2154347  20DF6B   \n",
       "\n",
       "              time_msg        time_ux  time_ux_client motion  speed  \\\n",
       "0  2018-01-02 07:37:10  1514878630000   1514878240000      t  127.0   \n",
       "1  2018-01-02 07:37:10  1514878630000   1514878240000      t  127.0   \n",
       "2  2018-01-02 07:37:10  1514878630000   1514878240000      t  127.0   \n",
       "3  2018-01-02 07:38:55  1514878735000   1514878300000      f    0.0   \n",
       "4  2018-01-02 07:48:40  1514879320000   1514879320000      f    0.0   \n",
       "\n",
       "     ...      radius    datepart seqnumber                      dtid nseq  \\\n",
       "0    ...         NaN  2018-01-02       536  5491a93b9336908c3b1b4c70    0   \n",
       "1    ...         NaN  2018-01-02       536  5491a93b9336908c3b1b4c70    0   \n",
       "2    ...         NaN  2018-01-02       536  5491a93b9336908c3b1b4c70    0   \n",
       "3    ...         NaN  2018-01-02      3581  5491a93b9336908c3b1b4c70    0   \n",
       "4    ...         NaN  2018-01-02      3922  5491a93b9336908c3b1b4c70    0   \n",
       "\n",
       "   rssi bsid_hex   bsid        snr       freq  \n",
       "0  -139      F4B   3915  11.740000  868136469  \n",
       "1  -137     33B8  13240  13.980000  868137053  \n",
       "2  -125     33C1  13249  26.580000  868136944  \n",
       "3  -139     2AE9  10985  12.210000  868109404  \n",
       "4  -100      461   1121  51.560001  868188574  \n",
       "\n",
       "[5 rows x 23 columns]"
      ]
     },
     "execution_count": 15,
     "metadata": {},
     "output_type": "execute_result"
    }
   ],
   "source": [
    "toy_data.head()"
   ]
  },
  {
   "cell_type": "code",
   "execution_count": 4,
   "metadata": {},
   "outputs": [],
   "source": [
    "## Please run the cell\n",
    "## --------------------\n",
    "\n",
    "features_of_interest = {\"features_of_interest\": [\"rssi\"],\n",
    "\"target\":[\"latitude\", \"longitude\"]}\n",
    "\n",
    "dict_of_gby = {'rssi': ['bsid'],\n",
    "                'freq': ['bsid'],\n",
    "                'latitude_bs': ['bsid'],\n",
    "                'longitude_bs': ['bsid'],\n",
    "                'latitude': [''],\n",
    "                'longitude': [''],\n",
    "                'speed': [''],\n",
    "                'dtid': [''], \n",
    "                'did': [''],\n",
    "              }"
   ]
  },
  {
   "cell_type": "code",
   "execution_count": 5,
   "metadata": {
    "scrolled": true
   },
   "outputs": [
    {
     "name": "stdout",
     "output_type": "stream",
     "text": [
      "\u001b[4mFeatures of interest:\u001b[0m \u001b[1m ['rssi'] \u001b[0m \n",
      "\u001b[4mTarget:\u001b[0m \u001b[1m ['latitude', 'longitude'] \u001b[0m \n",
      "\u001b[4mNb of base stations:\u001b[0m \u001b[1m 12 \u001b[0m \n",
      "\u001b[4mNb of unique DeviceId train:\u001b[0m \u001b[1m 318 \u001b[0m\n",
      "CPU times: user 16.5 s, sys: 268 ms, total: 16.7 s\n",
      "Wall time: 16.6 s\n"
     ]
    }
   ],
   "source": [
    "%%time\n",
    "from utils.features_builder import _build_features_dict, my_parser\n",
    "(feature_dict, feature_name), (target_dict, target_name)  = _build_features_dict(toy_data, features_of_interest)\n",
    "res = my_parser(toy_data, toy_labels, feature_dict, target_dict, features_of_interest)\n",
    "X = pd.DataFrame(res['X'].toarray(), columns=res['dict_X'])\n",
    "y = pd.DataFrame(res['y'].toarray(), columns=res['dict_y'])\n",
    "\n"
   ]
  },
  {
   "cell_type": "code",
   "execution_count": 16,
   "metadata": {},
   "outputs": [
    {
     "data": {
      "text/html": [
       "<div>\n",
       "<style scoped>\n",
       "    .dataframe tbody tr th:only-of-type {\n",
       "        vertical-align: middle;\n",
       "    }\n",
       "\n",
       "    .dataframe tbody tr th {\n",
       "        vertical-align: top;\n",
       "    }\n",
       "\n",
       "    .dataframe thead th {\n",
       "        text-align: right;\n",
       "    }\n",
       "</style>\n",
       "<table border=\"1\" class=\"dataframe\">\n",
       "  <thead>\n",
       "    <tr style=\"text-align: right;\">\n",
       "      <th></th>\n",
       "      <th>rssi3915</th>\n",
       "      <th>rssi15623</th>\n",
       "      <th>rssi2293</th>\n",
       "      <th>rssi13249</th>\n",
       "      <th>rssi2849</th>\n",
       "      <th>rssi13240</th>\n",
       "      <th>rssi17121</th>\n",
       "      <th>rssi1121</th>\n",
       "      <th>rssi10985</th>\n",
       "      <th>rssi8442</th>\n",
       "      <th>rssi10744</th>\n",
       "      <th>rssi1241</th>\n",
       "    </tr>\n",
       "  </thead>\n",
       "  <tbody>\n",
       "    <tr>\n",
       "      <th>0</th>\n",
       "      <td>1</td>\n",
       "      <td>0</td>\n",
       "      <td>0</td>\n",
       "      <td>0</td>\n",
       "      <td>0</td>\n",
       "      <td>0</td>\n",
       "      <td>0</td>\n",
       "      <td>0</td>\n",
       "      <td>0</td>\n",
       "      <td>0</td>\n",
       "      <td>0</td>\n",
       "      <td>0</td>\n",
       "    </tr>\n",
       "    <tr>\n",
       "      <th>1</th>\n",
       "      <td>0</td>\n",
       "      <td>0</td>\n",
       "      <td>0</td>\n",
       "      <td>0</td>\n",
       "      <td>0</td>\n",
       "      <td>1</td>\n",
       "      <td>0</td>\n",
       "      <td>0</td>\n",
       "      <td>1</td>\n",
       "      <td>0</td>\n",
       "      <td>0</td>\n",
       "      <td>0</td>\n",
       "    </tr>\n",
       "    <tr>\n",
       "      <th>2</th>\n",
       "      <td>0</td>\n",
       "      <td>0</td>\n",
       "      <td>0</td>\n",
       "      <td>1</td>\n",
       "      <td>0</td>\n",
       "      <td>0</td>\n",
       "      <td>0</td>\n",
       "      <td>0</td>\n",
       "      <td>0</td>\n",
       "      <td>0</td>\n",
       "      <td>0</td>\n",
       "      <td>0</td>\n",
       "    </tr>\n",
       "    <tr>\n",
       "      <th>3</th>\n",
       "      <td>0</td>\n",
       "      <td>0</td>\n",
       "      <td>0</td>\n",
       "      <td>0</td>\n",
       "      <td>0</td>\n",
       "      <td>0</td>\n",
       "      <td>1</td>\n",
       "      <td>0</td>\n",
       "      <td>0</td>\n",
       "      <td>0</td>\n",
       "      <td>0</td>\n",
       "      <td>0</td>\n",
       "    </tr>\n",
       "    <tr>\n",
       "      <th>4</th>\n",
       "      <td>0</td>\n",
       "      <td>0</td>\n",
       "      <td>0</td>\n",
       "      <td>0</td>\n",
       "      <td>0</td>\n",
       "      <td>0</td>\n",
       "      <td>0</td>\n",
       "      <td>0</td>\n",
       "      <td>0</td>\n",
       "      <td>1</td>\n",
       "      <td>1</td>\n",
       "      <td>0</td>\n",
       "    </tr>\n",
       "  </tbody>\n",
       "</table>\n",
       "</div>"
      ],
      "text/plain": [
       "   rssi3915  rssi15623  rssi2293  rssi13249  rssi2849  rssi13240  rssi17121  \\\n",
       "0         1          0         0          0         0          0          0   \n",
       "1         0          0         0          0         0          1          0   \n",
       "2         0          0         0          1         0          0          0   \n",
       "3         0          0         0          0         0          0          1   \n",
       "4         0          0         0          0         0          0          0   \n",
       "\n",
       "   rssi1121  rssi10985  rssi8442  rssi10744  rssi1241  \n",
       "0         0          0         0          0         0  \n",
       "1         0          1         0          0         0  \n",
       "2         0          0         0          0         0  \n",
       "3         0          0         0          0         0  \n",
       "4         0          0         1          1         0  "
      ]
     },
     "execution_count": 16,
     "metadata": {},
     "output_type": "execute_result"
    }
   ],
   "source": [
    "X.head()"
   ]
  },
  {
   "cell_type": "markdown",
   "metadata": {},
   "source": [
    "### Linear Regression"
   ]
  },
  {
   "cell_type": "code",
   "execution_count": 6,
   "metadata": {},
   "outputs": [],
   "source": [
    "from sklearn.linear_model import LinearRegression\n",
    "from sklearn.model_selection import train_test_split\n",
    "from utils.evaluation import vincenty_df, vincenty_vec, criterion, plot_error"
   ]
  },
  {
   "cell_type": "code",
   "execution_count": 7,
   "metadata": {},
   "outputs": [],
   "source": [
    "X_train, X_test, y_train, y_test = train_test_split(X, y, test_size=0.25, random_state=50)"
   ]
  },
  {
   "cell_type": "code",
   "execution_count": 8,
   "metadata": {},
   "outputs": [],
   "source": [
    "reg = LinearRegression()\n",
    "reg.fit(X_train, y_train)  \n",
    "\n",
    "pred = pd.DataFrame(reg.predict(X_test), columns=res['dict_y'])"
   ]
  },
  {
   "cell_type": "code",
   "execution_count": 11,
   "metadata": {},
   "outputs": [
    {
     "name": "stdout",
     "output_type": "stream",
     "text": [
      "The criterion on the testing data : 24.61 km\n"
     ]
    }
   ],
   "source": [
    "print('The criterion on the testing data : %.2f km' % criterion(pred, y_test, True))\n",
    "\n",
    "# np.savetxt('data/Toy/pred_toy.txt', pred.values)"
   ]
  },
  {
   "cell_type": "code",
   "execution_count": 12,
   "metadata": {},
   "outputs": [
    {
     "name": "stderr",
     "output_type": "stream",
     "text": [
      "/home/valou/Documents/télécom/3a/IA317-large_scale_ML/Projet_IA317/geolocenv/lib/python3.6/site-packages/matplotlib/figure.py:448: UserWarning: Matplotlib is currently using module://ipykernel.pylab.backend_inline, which is a non-GUI backend, so cannot show the figure.\n",
      "  % get_backend())\n"
     ]
    },
    {
     "data": {
      "image/png": "[encoded data removed]",
      "text/plain": [
       "<Figure size 432x288 with 1 Axes>"
      ]
     },
     "metadata": {
      "needs_background": "light"
     },
     "output_type": "display_data"
    }
   ],
   "source": [
    "plot_error(pred, y_test, True)"
   ]
  },
  {
   "cell_type": "markdown",
   "metadata": {},
   "source": [
    "#### Remark: \n",
    "The criterion is about 20 km. It's huge ! "
   ]
  },
  {
   "cell_type": "markdown",
   "metadata": {},
   "source": [
    "### Notation \n",
    "After having upload your file pred_test.txt on the server, you will be ranked w.r.t the criterion. \n",
    "The score which is assigned to you is computed on half of the test set. This corresponds to the public score. \n",
    "On the other half, you are assigned a private score. \n",
    "\n",
    "Your final score will take into account these two scores. Thus, your final rank may differ slightly from the one you see on the leader board."
   ]
  },
  {
   "cell_type": "markdown",
   "metadata": {},
   "source": [
    "#### Now it's your turn. Good luck !  :) "
   ]
  }
 ],
 "metadata": {
  "kernelspec": {
   "display_name": "geoloc virtualenv",
   "language": "python",
   "name": "geolocenv"
  },
  "language_info": {
   "codemirror_mode": {
    "name": "ipython",
    "version": 3
   },
   "file_extension": ".py",
   "mimetype": "text/x-python",
   "name": "python",
   "nbconvert_exporter": "python",
   "pygments_lexer": "ipython3",
   "version": "3.6.5"
  }
 },
 "nbformat": 4,
 "nbformat_minor": 2
}
